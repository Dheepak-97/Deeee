{
 "cells": [
  {
   "cell_type": "code",
   "execution_count": 1,
   "metadata": {},
   "outputs": [],
   "source": [
    "import pandas as pd\n",
    "import numpy as np\n",
    "import seaborn as sns\n",
    "import random\n",
    "import matplotlib.pyplot as plt\n",
    "%matplotlib inline"
   ]
  },
  {
   "cell_type": "code",
   "execution_count": 2,
   "metadata": {},
   "outputs": [],
   "source": [
    "loans = pd.read_csv('kiva_loans.csv')\n",
    "theme_ids = pd.read_csv('loan_theme_ids.csv')\n",
    "theme_reg = pd.read_csv('loan_themes_by_region.csv')\n",
    "mpi_national  = pd.read_csv('MPI_national.csv')\n",
    "mpi_subnational = pd.read_csv('MPI_national.csv')\n",
    "k_mpi_reg_loc  = pd.read_csv('kiva_mpi_region_locations.csv')\n",
    "Loans = pd.read_csv('loans.csv')\n",
    "lenders = pd.read_csv('lenders.csv')\n",
    "loans_lenders = pd.read_csv('loans_lenders.csv')"
   ]
  },
  {
   "cell_type": "code",
   "execution_count": 3,
   "metadata": {
    "scrolled": true
   },
   "outputs": [
    {
     "data": {
      "text/html": [
       "<div>\n",
       "<style scoped>\n",
       "    .dataframe tbody tr th:only-of-type {\n",
       "        vertical-align: middle;\n",
       "    }\n",
       "\n",
       "    .dataframe tbody tr th {\n",
       "        vertical-align: top;\n",
       "    }\n",
       "\n",
       "    .dataframe thead th {\n",
       "        text-align: right;\n",
       "    }\n",
       "</style>\n",
       "<table border=\"1\" class=\"dataframe\">\n",
       "  <thead>\n",
       "    <tr style=\"text-align: right;\">\n",
       "      <th></th>\n",
       "      <th>id</th>\n",
       "      <th>funded_amount</th>\n",
       "      <th>loan_amount</th>\n",
       "      <th>activity</th>\n",
       "      <th>sector</th>\n",
       "      <th>use</th>\n",
       "      <th>country_code</th>\n",
       "      <th>country</th>\n",
       "      <th>region</th>\n",
       "      <th>currency</th>\n",
       "      <th>partner_id</th>\n",
       "      <th>posted_time</th>\n",
       "      <th>disbursed_time</th>\n",
       "      <th>funded_time</th>\n",
       "      <th>term_in_months</th>\n",
       "      <th>lender_count</th>\n",
       "      <th>tags</th>\n",
       "      <th>borrower_genders</th>\n",
       "      <th>repayment_interval</th>\n",
       "      <th>date</th>\n",
       "    </tr>\n",
       "  </thead>\n",
       "  <tbody>\n",
       "    <tr>\n",
       "      <th>0</th>\n",
       "      <td>653051</td>\n",
       "      <td>300.0</td>\n",
       "      <td>300.0</td>\n",
       "      <td>Fruits &amp; Vegetables</td>\n",
       "      <td>Food</td>\n",
       "      <td>To buy seasonal, fresh fruits to sell.</td>\n",
       "      <td>PK</td>\n",
       "      <td>Pakistan</td>\n",
       "      <td>Lahore</td>\n",
       "      <td>PKR</td>\n",
       "      <td>247.0</td>\n",
       "      <td>2014-01-01 06:12:39+00:00</td>\n",
       "      <td>2013-12-17 08:00:00+00:00</td>\n",
       "      <td>2014-01-02 10:06:32+00:00</td>\n",
       "      <td>12.0</td>\n",
       "      <td>12</td>\n",
       "      <td>NaN</td>\n",
       "      <td>female</td>\n",
       "      <td>irregular</td>\n",
       "      <td>2014-01-01</td>\n",
       "    </tr>\n",
       "    <tr>\n",
       "      <th>1</th>\n",
       "      <td>653053</td>\n",
       "      <td>575.0</td>\n",
       "      <td>575.0</td>\n",
       "      <td>Rickshaw</td>\n",
       "      <td>Transportation</td>\n",
       "      <td>to repair and maintain the auto rickshaw used ...</td>\n",
       "      <td>PK</td>\n",
       "      <td>Pakistan</td>\n",
       "      <td>Lahore</td>\n",
       "      <td>PKR</td>\n",
       "      <td>247.0</td>\n",
       "      <td>2014-01-01 06:51:08+00:00</td>\n",
       "      <td>2013-12-17 08:00:00+00:00</td>\n",
       "      <td>2014-01-02 09:17:23+00:00</td>\n",
       "      <td>11.0</td>\n",
       "      <td>14</td>\n",
       "      <td>NaN</td>\n",
       "      <td>female, female</td>\n",
       "      <td>irregular</td>\n",
       "      <td>2014-01-01</td>\n",
       "    </tr>\n",
       "    <tr>\n",
       "      <th>2</th>\n",
       "      <td>653068</td>\n",
       "      <td>150.0</td>\n",
       "      <td>150.0</td>\n",
       "      <td>Transportation</td>\n",
       "      <td>Transportation</td>\n",
       "      <td>To repair their old cycle-van and buy another ...</td>\n",
       "      <td>IN</td>\n",
       "      <td>India</td>\n",
       "      <td>Maynaguri</td>\n",
       "      <td>INR</td>\n",
       "      <td>334.0</td>\n",
       "      <td>2014-01-01 09:58:07+00:00</td>\n",
       "      <td>2013-12-17 08:00:00+00:00</td>\n",
       "      <td>2014-01-01 16:01:36+00:00</td>\n",
       "      <td>43.0</td>\n",
       "      <td>6</td>\n",
       "      <td>user_favorite, user_favorite</td>\n",
       "      <td>female</td>\n",
       "      <td>bullet</td>\n",
       "      <td>2014-01-01</td>\n",
       "    </tr>\n",
       "  </tbody>\n",
       "</table>\n",
       "</div>"
      ],
      "text/plain": [
       "       id  funded_amount  loan_amount             activity          sector  \\\n",
       "0  653051          300.0        300.0  Fruits & Vegetables            Food   \n",
       "1  653053          575.0        575.0             Rickshaw  Transportation   \n",
       "2  653068          150.0        150.0       Transportation  Transportation   \n",
       "\n",
       "                                                 use country_code   country  \\\n",
       "0            To buy seasonal, fresh fruits to sell.            PK  Pakistan   \n",
       "1  to repair and maintain the auto rickshaw used ...           PK  Pakistan   \n",
       "2  To repair their old cycle-van and buy another ...           IN     India   \n",
       "\n",
       "      region currency  partner_id                posted_time  \\\n",
       "0     Lahore      PKR       247.0  2014-01-01 06:12:39+00:00   \n",
       "1     Lahore      PKR       247.0  2014-01-01 06:51:08+00:00   \n",
       "2  Maynaguri      INR       334.0  2014-01-01 09:58:07+00:00   \n",
       "\n",
       "              disbursed_time                funded_time  term_in_months  \\\n",
       "0  2013-12-17 08:00:00+00:00  2014-01-02 10:06:32+00:00            12.0   \n",
       "1  2013-12-17 08:00:00+00:00  2014-01-02 09:17:23+00:00            11.0   \n",
       "2  2013-12-17 08:00:00+00:00  2014-01-01 16:01:36+00:00            43.0   \n",
       "\n",
       "   lender_count                          tags borrower_genders  \\\n",
       "0            12                           NaN           female   \n",
       "1            14                           NaN   female, female   \n",
       "2             6  user_favorite, user_favorite           female   \n",
       "\n",
       "  repayment_interval        date  \n",
       "0          irregular  2014-01-01  \n",
       "1          irregular  2014-01-01  \n",
       "2             bullet  2014-01-01  "
      ]
     },
     "execution_count": 3,
     "metadata": {},
     "output_type": "execute_result"
    }
   ],
   "source": [
    "loans.head(3)"
   ]
  },
  {
   "cell_type": "code",
   "execution_count": 4,
   "metadata": {},
   "outputs": [
    {
     "data": {
      "text/html": [
       "<div>\n",
       "<style scoped>\n",
       "    .dataframe tbody tr th:only-of-type {\n",
       "        vertical-align: middle;\n",
       "    }\n",
       "\n",
       "    .dataframe tbody tr th {\n",
       "        vertical-align: top;\n",
       "    }\n",
       "\n",
       "    .dataframe thead th {\n",
       "        text-align: right;\n",
       "    }\n",
       "</style>\n",
       "<table border=\"1\" class=\"dataframe\">\n",
       "  <thead>\n",
       "    <tr style=\"text-align: right;\">\n",
       "      <th></th>\n",
       "      <th>id</th>\n",
       "      <th>Loan Theme ID</th>\n",
       "      <th>Loan Theme Type</th>\n",
       "      <th>Partner ID</th>\n",
       "    </tr>\n",
       "  </thead>\n",
       "  <tbody>\n",
       "    <tr>\n",
       "      <th>0</th>\n",
       "      <td>638631</td>\n",
       "      <td>a1050000000skGl</td>\n",
       "      <td>General</td>\n",
       "      <td>151.0</td>\n",
       "    </tr>\n",
       "    <tr>\n",
       "      <th>1</th>\n",
       "      <td>640322</td>\n",
       "      <td>a1050000000skGl</td>\n",
       "      <td>General</td>\n",
       "      <td>151.0</td>\n",
       "    </tr>\n",
       "  </tbody>\n",
       "</table>\n",
       "</div>"
      ],
      "text/plain": [
       "       id    Loan Theme ID Loan Theme Type  Partner ID\n",
       "0  638631  a1050000000skGl         General       151.0\n",
       "1  640322  a1050000000skGl         General       151.0"
      ]
     },
     "execution_count": 4,
     "metadata": {},
     "output_type": "execute_result"
    }
   ],
   "source": [
    "theme_ids.head(2)"
   ]
  },
  {
   "cell_type": "code",
   "execution_count": 142,
   "metadata": {
    "scrolled": true
   },
   "outputs": [
    {
     "data": {
      "text/html": [
       "<div>\n",
       "<style scoped>\n",
       "    .dataframe tbody tr th:only-of-type {\n",
       "        vertical-align: middle;\n",
       "    }\n",
       "\n",
       "    .dataframe tbody tr th {\n",
       "        vertical-align: top;\n",
       "    }\n",
       "\n",
       "    .dataframe thead th {\n",
       "        text-align: right;\n",
       "    }\n",
       "</style>\n",
       "<table border=\"1\" class=\"dataframe\">\n",
       "  <thead>\n",
       "    <tr style=\"text-align: right;\">\n",
       "      <th></th>\n",
       "      <th>LocationName</th>\n",
       "      <th>ISO</th>\n",
       "      <th>country</th>\n",
       "      <th>region</th>\n",
       "      <th>world_region</th>\n",
       "      <th>MPI</th>\n",
       "      <th>geo</th>\n",
       "      <th>lat</th>\n",
       "      <th>lon</th>\n",
       "    </tr>\n",
       "  </thead>\n",
       "  <tbody>\n",
       "    <tr>\n",
       "      <th>0</th>\n",
       "      <td>Badakhshan, Afghanistan</td>\n",
       "      <td>AFG</td>\n",
       "      <td>Afghanistan</td>\n",
       "      <td>Badakhshan</td>\n",
       "      <td>South Asia</td>\n",
       "      <td>0.387</td>\n",
       "      <td>(36.7347725, 70.81199529999999)</td>\n",
       "      <td>36.734772</td>\n",
       "      <td>70.811995</td>\n",
       "    </tr>\n",
       "    <tr>\n",
       "      <th>1</th>\n",
       "      <td>Badghis, Afghanistan</td>\n",
       "      <td>AFG</td>\n",
       "      <td>Afghanistan</td>\n",
       "      <td>Badghis</td>\n",
       "      <td>South Asia</td>\n",
       "      <td>0.466</td>\n",
       "      <td>(35.1671339, 63.7695384)</td>\n",
       "      <td>35.167134</td>\n",
       "      <td>63.769538</td>\n",
       "    </tr>\n",
       "    <tr>\n",
       "      <th>2</th>\n",
       "      <td>Baghlan, Afghanistan</td>\n",
       "      <td>AFG</td>\n",
       "      <td>Afghanistan</td>\n",
       "      <td>Baghlan</td>\n",
       "      <td>South Asia</td>\n",
       "      <td>0.300</td>\n",
       "      <td>(35.8042947, 69.2877535)</td>\n",
       "      <td>35.804295</td>\n",
       "      <td>69.287754</td>\n",
       "    </tr>\n",
       "  </tbody>\n",
       "</table>\n",
       "</div>"
      ],
      "text/plain": [
       "              LocationName  ISO      country      region world_region    MPI  \\\n",
       "0  Badakhshan, Afghanistan  AFG  Afghanistan  Badakhshan   South Asia  0.387   \n",
       "1     Badghis, Afghanistan  AFG  Afghanistan     Badghis   South Asia  0.466   \n",
       "2     Baghlan, Afghanistan  AFG  Afghanistan     Baghlan   South Asia  0.300   \n",
       "\n",
       "                               geo        lat        lon  \n",
       "0  (36.7347725, 70.81199529999999)  36.734772  70.811995  \n",
       "1         (35.1671339, 63.7695384)  35.167134  63.769538  \n",
       "2         (35.8042947, 69.2877535)  35.804295  69.287754  "
      ]
     },
     "execution_count": 142,
     "metadata": {},
     "output_type": "execute_result"
    }
   ],
   "source": [
    "k_mpi_reg_loc.head(3)"
   ]
  },
  {
   "cell_type": "code",
   "execution_count": 6,
   "metadata": {},
   "outputs": [
    {
     "data": {
      "text/plain": [
       "LocationName    1788\n",
       "ISO             1764\n",
       "country         1764\n",
       "region          1788\n",
       "world_region    1764\n",
       "MPI             1788\n",
       "geo                0\n",
       "lat             1880\n",
       "lon             1880\n",
       "dtype: int64"
      ]
     },
     "execution_count": 6,
     "metadata": {},
     "output_type": "execute_result"
    }
   ],
   "source": [
    "k_mpi_reg_loc.isnull().sum()"
   ]
  },
  {
   "cell_type": "code",
   "execution_count": 7,
   "metadata": {},
   "outputs": [],
   "source": [
    "k_mpi_reg_loc1 = k_mpi_reg_loc.dropna(thresh=5)"
   ]
  },
  {
   "cell_type": "code",
   "execution_count": 8,
   "metadata": {},
   "outputs": [],
   "source": [
    "k_mpi_reg_loc1.index = range(0, len(k_mpi_reg_loc1))"
   ]
  },
  {
   "cell_type": "code",
   "execution_count": 143,
   "metadata": {
    "scrolled": true
   },
   "outputs": [
    {
     "data": {
      "text/html": [
       "<div>\n",
       "<style scoped>\n",
       "    .dataframe tbody tr th:only-of-type {\n",
       "        vertical-align: middle;\n",
       "    }\n",
       "\n",
       "    .dataframe tbody tr th {\n",
       "        vertical-align: top;\n",
       "    }\n",
       "\n",
       "    .dataframe thead th {\n",
       "        text-align: right;\n",
       "    }\n",
       "</style>\n",
       "<table border=\"1\" class=\"dataframe\">\n",
       "  <thead>\n",
       "    <tr style=\"text-align: right;\">\n",
       "      <th></th>\n",
       "      <th>LocationName</th>\n",
       "      <th>ISO</th>\n",
       "      <th>country</th>\n",
       "      <th>region</th>\n",
       "      <th>world_region</th>\n",
       "      <th>MPI</th>\n",
       "      <th>geo</th>\n",
       "      <th>lat</th>\n",
       "      <th>lon</th>\n",
       "    </tr>\n",
       "  </thead>\n",
       "  <tbody>\n",
       "    <tr>\n",
       "      <th>0</th>\n",
       "      <td>Badakhshan, Afghanistan</td>\n",
       "      <td>AFG</td>\n",
       "      <td>Afghanistan</td>\n",
       "      <td>Badakhshan</td>\n",
       "      <td>South Asia</td>\n",
       "      <td>0.387</td>\n",
       "      <td>(36.7347725, 70.81199529999999)</td>\n",
       "      <td>36.734772</td>\n",
       "      <td>70.811995</td>\n",
       "    </tr>\n",
       "    <tr>\n",
       "      <th>1</th>\n",
       "      <td>Badghis, Afghanistan</td>\n",
       "      <td>AFG</td>\n",
       "      <td>Afghanistan</td>\n",
       "      <td>Badghis</td>\n",
       "      <td>South Asia</td>\n",
       "      <td>0.466</td>\n",
       "      <td>(35.1671339, 63.7695384)</td>\n",
       "      <td>35.167134</td>\n",
       "      <td>63.769538</td>\n",
       "    </tr>\n",
       "    <tr>\n",
       "      <th>2</th>\n",
       "      <td>Baghlan, Afghanistan</td>\n",
       "      <td>AFG</td>\n",
       "      <td>Afghanistan</td>\n",
       "      <td>Baghlan</td>\n",
       "      <td>South Asia</td>\n",
       "      <td>0.300</td>\n",
       "      <td>(35.8042947, 69.2877535)</td>\n",
       "      <td>35.804295</td>\n",
       "      <td>69.287754</td>\n",
       "    </tr>\n",
       "  </tbody>\n",
       "</table>\n",
       "</div>"
      ],
      "text/plain": [
       "              LocationName  ISO      country      region world_region    MPI  \\\n",
       "0  Badakhshan, Afghanistan  AFG  Afghanistan  Badakhshan   South Asia  0.387   \n",
       "1     Badghis, Afghanistan  AFG  Afghanistan     Badghis   South Asia  0.466   \n",
       "2     Baghlan, Afghanistan  AFG  Afghanistan     Baghlan   South Asia  0.300   \n",
       "\n",
       "                               geo        lat        lon  \n",
       "0  (36.7347725, 70.81199529999999)  36.734772  70.811995  \n",
       "1         (35.1671339, 63.7695384)  35.167134  63.769538  \n",
       "2         (35.8042947, 69.2877535)  35.804295  69.287754  "
      ]
     },
     "execution_count": 143,
     "metadata": {},
     "output_type": "execute_result"
    }
   ],
   "source": [
    "k_mpi_reg_loc1.head(3)"
   ]
  },
  {
   "cell_type": "code",
   "execution_count": 10,
   "metadata": {},
   "outputs": [],
   "source": [
    "sorted_k_mpi_reg = k_mpi_reg_loc1.sort_values(by = 'MPI', ascending = False)"
   ]
  },
  {
   "cell_type": "code",
   "execution_count": 11,
   "metadata": {},
   "outputs": [],
   "source": [
    "sorted_k_mpi_reg.index = range(0, len(sorted_k_mpi_reg))"
   ]
  },
  {
   "cell_type": "code",
   "execution_count": 144,
   "metadata": {},
   "outputs": [
    {
     "data": {
      "text/html": [
       "<div>\n",
       "<style scoped>\n",
       "    .dataframe tbody tr th:only-of-type {\n",
       "        vertical-align: middle;\n",
       "    }\n",
       "\n",
       "    .dataframe tbody tr th {\n",
       "        vertical-align: top;\n",
       "    }\n",
       "\n",
       "    .dataframe thead th {\n",
       "        text-align: right;\n",
       "    }\n",
       "</style>\n",
       "<table border=\"1\" class=\"dataframe\">\n",
       "  <thead>\n",
       "    <tr style=\"text-align: right;\">\n",
       "      <th></th>\n",
       "      <th>LocationName</th>\n",
       "      <th>ISO</th>\n",
       "      <th>country</th>\n",
       "      <th>region</th>\n",
       "      <th>world_region</th>\n",
       "      <th>MPI</th>\n",
       "      <th>geo</th>\n",
       "      <th>lat</th>\n",
       "      <th>lon</th>\n",
       "    </tr>\n",
       "  </thead>\n",
       "  <tbody>\n",
       "    <tr>\n",
       "      <th>0</th>\n",
       "      <td>Lac, Chad</td>\n",
       "      <td>TCD</td>\n",
       "      <td>Chad</td>\n",
       "      <td>Lac</td>\n",
       "      <td>Sub-Saharan Africa</td>\n",
       "      <td>0.744</td>\n",
       "      <td>(18.3281428, -77.2405153)</td>\n",
       "      <td>18.328143</td>\n",
       "      <td>-77.240515</td>\n",
       "    </tr>\n",
       "    <tr>\n",
       "      <th>1</th>\n",
       "      <td>Wadi Fira, Chad</td>\n",
       "      <td>TCD</td>\n",
       "      <td>Chad</td>\n",
       "      <td>Wadi Fira</td>\n",
       "      <td>Sub-Saharan Africa</td>\n",
       "      <td>0.709</td>\n",
       "      <td>(15.0892416, 21.4752851)</td>\n",
       "      <td>15.089242</td>\n",
       "      <td>21.475285</td>\n",
       "    </tr>\n",
       "    <tr>\n",
       "      <th>2</th>\n",
       "      <td>Est, Burkina Faso</td>\n",
       "      <td>BFA</td>\n",
       "      <td>Burkina Faso</td>\n",
       "      <td>Est</td>\n",
       "      <td>Sub-Saharan Africa</td>\n",
       "      <td>0.698</td>\n",
       "      <td>(12.4365526, 0.9056623)</td>\n",
       "      <td>12.436553</td>\n",
       "      <td>0.905662</td>\n",
       "    </tr>\n",
       "  </tbody>\n",
       "</table>\n",
       "</div>"
      ],
      "text/plain": [
       "        LocationName  ISO       country     region        world_region    MPI  \\\n",
       "0          Lac, Chad  TCD          Chad        Lac  Sub-Saharan Africa  0.744   \n",
       "1    Wadi Fira, Chad  TCD          Chad  Wadi Fira  Sub-Saharan Africa  0.709   \n",
       "2  Est, Burkina Faso  BFA  Burkina Faso        Est  Sub-Saharan Africa  0.698   \n",
       "\n",
       "                         geo        lat        lon  \n",
       "0  (18.3281428, -77.2405153)  18.328143 -77.240515  \n",
       "1   (15.0892416, 21.4752851)  15.089242  21.475285  \n",
       "2    (12.4365526, 0.9056623)  12.436553   0.905662  "
      ]
     },
     "execution_count": 144,
     "metadata": {},
     "output_type": "execute_result"
    }
   ],
   "source": [
    "sorted_k_mpi_reg.head(3)"
   ]
  },
  {
   "cell_type": "code",
   "execution_count": 17,
   "metadata": {},
   "outputs": [
    {
     "data": {
      "text/html": [
       "<div>\n",
       "<style scoped>\n",
       "    .dataframe tbody tr th:only-of-type {\n",
       "        vertical-align: middle;\n",
       "    }\n",
       "\n",
       "    .dataframe tbody tr th {\n",
       "        vertical-align: top;\n",
       "    }\n",
       "\n",
       "    .dataframe thead th {\n",
       "        text-align: right;\n",
       "    }\n",
       "</style>\n",
       "<table border=\"1\" class=\"dataframe\">\n",
       "  <thead>\n",
       "    <tr style=\"text-align: right;\">\n",
       "      <th></th>\n",
       "      <th>Partner ID</th>\n",
       "      <th>Field Partner Name</th>\n",
       "      <th>sector</th>\n",
       "      <th>Loan Theme ID</th>\n",
       "      <th>Loan Theme Type</th>\n",
       "      <th>country</th>\n",
       "      <th>forkiva</th>\n",
       "      <th>region</th>\n",
       "      <th>geocode_old</th>\n",
       "      <th>ISO</th>\n",
       "      <th>...</th>\n",
       "      <th>amount</th>\n",
       "      <th>LocationName</th>\n",
       "      <th>geocode</th>\n",
       "      <th>names</th>\n",
       "      <th>geo</th>\n",
       "      <th>lat</th>\n",
       "      <th>lon</th>\n",
       "      <th>mpi_region</th>\n",
       "      <th>mpi_geo</th>\n",
       "      <th>rural_pct</th>\n",
       "    </tr>\n",
       "  </thead>\n",
       "  <tbody>\n",
       "    <tr>\n",
       "      <th>0</th>\n",
       "      <td>9</td>\n",
       "      <td>KREDIT Microfinance Institution</td>\n",
       "      <td>General Financial Inclusion</td>\n",
       "      <td>a1050000000slfi</td>\n",
       "      <td>Higher Education</td>\n",
       "      <td>Cambodia</td>\n",
       "      <td>No</td>\n",
       "      <td>Banteay Meanchey</td>\n",
       "      <td>(13.75, 103.0)</td>\n",
       "      <td>KHM</td>\n",
       "      <td>...</td>\n",
       "      <td>450</td>\n",
       "      <td>Banteay Meanchey, Cambodia</td>\n",
       "      <td>[(13.6672596, 102.8975098)]</td>\n",
       "      <td>Banteay Meanchey Province; Cambodia</td>\n",
       "      <td>(13.6672596, 102.8975098)</td>\n",
       "      <td>13.667260</td>\n",
       "      <td>102.897510</td>\n",
       "      <td>Banteay Mean Chey, Cambodia</td>\n",
       "      <td>(13.6672596, 102.8975098)</td>\n",
       "      <td>90.0</td>\n",
       "    </tr>\n",
       "    <tr>\n",
       "      <th>1</th>\n",
       "      <td>9</td>\n",
       "      <td>KREDIT Microfinance Institution</td>\n",
       "      <td>General Financial Inclusion</td>\n",
       "      <td>a10500000068jPe</td>\n",
       "      <td>Vulnerable Populations</td>\n",
       "      <td>Cambodia</td>\n",
       "      <td>No</td>\n",
       "      <td>Battambang Province</td>\n",
       "      <td>NaN</td>\n",
       "      <td>KHM</td>\n",
       "      <td>...</td>\n",
       "      <td>20275</td>\n",
       "      <td>Battambang Province, Cambodia</td>\n",
       "      <td>[(13.0286971, 102.989615)]</td>\n",
       "      <td>Battambang Province; Cambodia</td>\n",
       "      <td>(13.0286971, 102.989615)</td>\n",
       "      <td>13.028697</td>\n",
       "      <td>102.989615</td>\n",
       "      <td>Banteay Mean Chey, Cambodia</td>\n",
       "      <td>(13.6672596, 102.8975098)</td>\n",
       "      <td>90.0</td>\n",
       "    </tr>\n",
       "  </tbody>\n",
       "</table>\n",
       "<p>2 rows × 21 columns</p>\n",
       "</div>"
      ],
      "text/plain": [
       "   Partner ID               Field Partner Name                       sector  \\\n",
       "0           9  KREDIT Microfinance Institution  General Financial Inclusion   \n",
       "1           9  KREDIT Microfinance Institution  General Financial Inclusion   \n",
       "\n",
       "     Loan Theme ID         Loan Theme Type   country forkiva  \\\n",
       "0  a1050000000slfi        Higher Education  Cambodia      No   \n",
       "1  a10500000068jPe  Vulnerable Populations  Cambodia      No   \n",
       "\n",
       "                region     geocode_old  ISO    ...     amount  \\\n",
       "0     Banteay Meanchey  (13.75, 103.0)  KHM    ...        450   \n",
       "1  Battambang Province             NaN  KHM    ...      20275   \n",
       "\n",
       "                    LocationName                      geocode  \\\n",
       "0     Banteay Meanchey, Cambodia  [(13.6672596, 102.8975098)]   \n",
       "1  Battambang Province, Cambodia   [(13.0286971, 102.989615)]   \n",
       "\n",
       "                                 names                        geo        lat  \\\n",
       "0  Banteay Meanchey Province; Cambodia  (13.6672596, 102.8975098)  13.667260   \n",
       "1        Battambang Province; Cambodia   (13.0286971, 102.989615)  13.028697   \n",
       "\n",
       "          lon                   mpi_region                    mpi_geo  \\\n",
       "0  102.897510  Banteay Mean Chey, Cambodia  (13.6672596, 102.8975098)   \n",
       "1  102.989615  Banteay Mean Chey, Cambodia  (13.6672596, 102.8975098)   \n",
       "\n",
       "  rural_pct  \n",
       "0      90.0  \n",
       "1      90.0  \n",
       "\n",
       "[2 rows x 21 columns]"
      ]
     },
     "execution_count": 17,
     "metadata": {},
     "output_type": "execute_result"
    }
   ],
   "source": [
    "theme_reg.head(2)"
   ]
  },
  {
   "cell_type": "code",
   "execution_count": 18,
   "metadata": {},
   "outputs": [
    {
     "data": {
      "text/plain": [
       "Index(['Partner ID', 'Field Partner Name', 'sector', 'Loan Theme ID',\n",
       "       'Loan Theme Type', 'country', 'forkiva', 'region', 'geocode_old', 'ISO',\n",
       "       'number', 'amount', 'LocationName', 'geocode', 'names', 'geo', 'lat',\n",
       "       'lon', 'mpi_region', 'mpi_geo', 'rural_pct'],\n",
       "      dtype='object')"
      ]
     },
     "execution_count": 18,
     "metadata": {},
     "output_type": "execute_result"
    }
   ],
   "source": [
    "theme_reg.columns"
   ]
  },
  {
   "cell_type": "code",
   "execution_count": 145,
   "metadata": {},
   "outputs": [
    {
     "data": {
      "text/html": [
       "<div>\n",
       "<style scoped>\n",
       "    .dataframe tbody tr th:only-of-type {\n",
       "        vertical-align: middle;\n",
       "    }\n",
       "\n",
       "    .dataframe tbody tr th {\n",
       "        vertical-align: top;\n",
       "    }\n",
       "\n",
       "    .dataframe thead th {\n",
       "        text-align: right;\n",
       "    }\n",
       "</style>\n",
       "<table border=\"1\" class=\"dataframe\">\n",
       "  <thead>\n",
       "    <tr style=\"text-align: right;\">\n",
       "      <th></th>\n",
       "      <th>loan_id</th>\n",
       "      <th>loan_name</th>\n",
       "      <th>original_language</th>\n",
       "      <th>description</th>\n",
       "      <th>description_translated</th>\n",
       "      <th>funded_amount</th>\n",
       "      <th>loan_amount</th>\n",
       "      <th>status</th>\n",
       "      <th>activity_name</th>\n",
       "      <th>sector_name</th>\n",
       "      <th>...</th>\n",
       "      <th>raised_time</th>\n",
       "      <th>lender_term</th>\n",
       "      <th>num_lenders_total</th>\n",
       "      <th>num_journal_entries</th>\n",
       "      <th>num_bulk_entries</th>\n",
       "      <th>tags</th>\n",
       "      <th>borrower_genders</th>\n",
       "      <th>borrower_pictured</th>\n",
       "      <th>repayment_interval</th>\n",
       "      <th>distribution_model</th>\n",
       "    </tr>\n",
       "  </thead>\n",
       "  <tbody>\n",
       "    <tr>\n",
       "      <th>0</th>\n",
       "      <td>657307</td>\n",
       "      <td>Aivy</td>\n",
       "      <td>English</td>\n",
       "      <td>Aivy, 21 years of age, is single and lives in ...</td>\n",
       "      <td>NaN</td>\n",
       "      <td>125.0</td>\n",
       "      <td>125.0</td>\n",
       "      <td>funded</td>\n",
       "      <td>General Store</td>\n",
       "      <td>Retail</td>\n",
       "      <td>...</td>\n",
       "      <td>2014-01-15 04:48:22.000 +0000</td>\n",
       "      <td>7.0</td>\n",
       "      <td>3</td>\n",
       "      <td>2</td>\n",
       "      <td>1</td>\n",
       "      <td>NaN</td>\n",
       "      <td>female</td>\n",
       "      <td>true</td>\n",
       "      <td>irregular</td>\n",
       "      <td>field_partner</td>\n",
       "    </tr>\n",
       "    <tr>\n",
       "      <th>1</th>\n",
       "      <td>657259</td>\n",
       "      <td>Idalia Marizza</td>\n",
       "      <td>Spanish</td>\n",
       "      <td>Doña Idalia, esta casada, tiene 57 años de eda...</td>\n",
       "      <td>Idalia, 57, is married and lives with her husb...</td>\n",
       "      <td>400.0</td>\n",
       "      <td>400.0</td>\n",
       "      <td>funded</td>\n",
       "      <td>Used Clothing</td>\n",
       "      <td>Clothing</td>\n",
       "      <td>...</td>\n",
       "      <td>2014-02-25 06:42:06.000 +0000</td>\n",
       "      <td>8.0</td>\n",
       "      <td>11</td>\n",
       "      <td>2</td>\n",
       "      <td>1</td>\n",
       "      <td>NaN</td>\n",
       "      <td>female</td>\n",
       "      <td>true</td>\n",
       "      <td>monthly</td>\n",
       "      <td>field_partner</td>\n",
       "    </tr>\n",
       "    <tr>\n",
       "      <th>2</th>\n",
       "      <td>658010</td>\n",
       "      <td>Aasia</td>\n",
       "      <td>English</td>\n",
       "      <td>Aasia is a 45-year-old married lady and she ha...</td>\n",
       "      <td>NaN</td>\n",
       "      <td>400.0</td>\n",
       "      <td>400.0</td>\n",
       "      <td>funded</td>\n",
       "      <td>General Store</td>\n",
       "      <td>Retail</td>\n",
       "      <td>...</td>\n",
       "      <td>2014-01-24 23:06:18.000 +0000</td>\n",
       "      <td>14.0</td>\n",
       "      <td>16</td>\n",
       "      <td>2</td>\n",
       "      <td>1</td>\n",
       "      <td>#Woman Owned Biz, #Supporting Family, user_fav...</td>\n",
       "      <td>female</td>\n",
       "      <td>true</td>\n",
       "      <td>monthly</td>\n",
       "      <td>field_partner</td>\n",
       "    </tr>\n",
       "  </tbody>\n",
       "</table>\n",
       "<p>3 rows × 31 columns</p>\n",
       "</div>"
      ],
      "text/plain": [
       "   loan_id       loan_name original_language  \\\n",
       "0   657307            Aivy           English   \n",
       "1   657259  Idalia Marizza           Spanish   \n",
       "2   658010           Aasia           English   \n",
       "\n",
       "                                         description  \\\n",
       "0  Aivy, 21 years of age, is single and lives in ...   \n",
       "1  Doña Idalia, esta casada, tiene 57 años de eda...   \n",
       "2  Aasia is a 45-year-old married lady and she ha...   \n",
       "\n",
       "                              description_translated  funded_amount  \\\n",
       "0                                                NaN          125.0   \n",
       "1  Idalia, 57, is married and lives with her husb...          400.0   \n",
       "2                                                NaN          400.0   \n",
       "\n",
       "   loan_amount  status  activity_name sector_name        ...          \\\n",
       "0        125.0  funded  General Store      Retail        ...           \n",
       "1        400.0  funded  Used Clothing    Clothing        ...           \n",
       "2        400.0  funded  General Store      Retail        ...           \n",
       "\n",
       "                     raised_time lender_term num_lenders_total  \\\n",
       "0  2014-01-15 04:48:22.000 +0000         7.0                 3   \n",
       "1  2014-02-25 06:42:06.000 +0000         8.0                11   \n",
       "2  2014-01-24 23:06:18.000 +0000        14.0                16   \n",
       "\n",
       "  num_journal_entries num_bulk_entries  \\\n",
       "0                   2                1   \n",
       "1                   2                1   \n",
       "2                   2                1   \n",
       "\n",
       "                                                tags borrower_genders  \\\n",
       "0                                                NaN           female   \n",
       "1                                                NaN           female   \n",
       "2  #Woman Owned Biz, #Supporting Family, user_fav...           female   \n",
       "\n",
       "   borrower_pictured repayment_interval distribution_model  \n",
       "0               true          irregular      field_partner  \n",
       "1               true            monthly      field_partner  \n",
       "2               true            monthly      field_partner  \n",
       "\n",
       "[3 rows x 31 columns]"
      ]
     },
     "execution_count": 145,
     "metadata": {},
     "output_type": "execute_result"
    }
   ],
   "source": [
    "Loans.head(3)"
   ]
  },
  {
   "cell_type": "code",
   "execution_count": 24,
   "metadata": {},
   "outputs": [
    {
     "name": "stdout",
     "output_type": "stream",
     "text": [
      "<class 'pandas.core.frame.DataFrame'>\n",
      "RangeIndex: 671205 entries, 0 to 671204\n",
      "Data columns (total 20 columns):\n",
      "id                    671205 non-null int64\n",
      "funded_amount         671205 non-null float64\n",
      "loan_amount           671205 non-null float64\n",
      "activity              671205 non-null object\n",
      "sector                671205 non-null object\n",
      "use                   666973 non-null object\n",
      "country_code          671197 non-null object\n",
      "country               671205 non-null object\n",
      "region                614405 non-null object\n",
      "currency              671205 non-null object\n",
      "partner_id            657698 non-null float64\n",
      "posted_time           671205 non-null object\n",
      "disbursed_time        668809 non-null object\n",
      "funded_time           622874 non-null object\n",
      "term_in_months        671205 non-null float64\n",
      "lender_count          671205 non-null int64\n",
      "tags                  499789 non-null object\n",
      "borrower_genders      666984 non-null object\n",
      "repayment_interval    671205 non-null object\n",
      "date                  671205 non-null object\n",
      "dtypes: float64(4), int64(2), object(14)\n",
      "memory usage: 102.4+ MB\n"
     ]
    }
   ],
   "source": [
    "loans.info()"
   ]
  },
  {
   "cell_type": "code",
   "execution_count": 25,
   "metadata": {},
   "outputs": [
    {
     "data": {
      "text/html": [
       "<div>\n",
       "<style scoped>\n",
       "    .dataframe tbody tr th:only-of-type {\n",
       "        vertical-align: middle;\n",
       "    }\n",
       "\n",
       "    .dataframe tbody tr th {\n",
       "        vertical-align: top;\n",
       "    }\n",
       "\n",
       "    .dataframe thead th {\n",
       "        text-align: right;\n",
       "    }\n",
       "</style>\n",
       "<table border=\"1\" class=\"dataframe\">\n",
       "  <thead>\n",
       "    <tr style=\"text-align: right;\">\n",
       "      <th></th>\n",
       "      <th>id</th>\n",
       "      <th>funded_amount</th>\n",
       "      <th>loan_amount</th>\n",
       "      <th>partner_id</th>\n",
       "      <th>term_in_months</th>\n",
       "      <th>lender_count</th>\n",
       "    </tr>\n",
       "  </thead>\n",
       "  <tbody>\n",
       "    <tr>\n",
       "      <th>count</th>\n",
       "      <td>6.712050e+05</td>\n",
       "      <td>671205.000000</td>\n",
       "      <td>671205.000000</td>\n",
       "      <td>657698.000000</td>\n",
       "      <td>671205.000000</td>\n",
       "      <td>671205.000000</td>\n",
       "    </tr>\n",
       "    <tr>\n",
       "      <th>mean</th>\n",
       "      <td>9.932486e+05</td>\n",
       "      <td>785.995061</td>\n",
       "      <td>842.397107</td>\n",
       "      <td>178.199616</td>\n",
       "      <td>13.739022</td>\n",
       "      <td>20.590922</td>\n",
       "    </tr>\n",
       "    <tr>\n",
       "      <th>std</th>\n",
       "      <td>1.966113e+05</td>\n",
       "      <td>1130.398941</td>\n",
       "      <td>1198.660073</td>\n",
       "      <td>94.247581</td>\n",
       "      <td>8.598919</td>\n",
       "      <td>28.459551</td>\n",
       "    </tr>\n",
       "    <tr>\n",
       "      <th>min</th>\n",
       "      <td>6.530470e+05</td>\n",
       "      <td>0.000000</td>\n",
       "      <td>25.000000</td>\n",
       "      <td>9.000000</td>\n",
       "      <td>1.000000</td>\n",
       "      <td>0.000000</td>\n",
       "    </tr>\n",
       "    <tr>\n",
       "      <th>25%</th>\n",
       "      <td>8.230720e+05</td>\n",
       "      <td>250.000000</td>\n",
       "      <td>275.000000</td>\n",
       "      <td>126.000000</td>\n",
       "      <td>8.000000</td>\n",
       "      <td>7.000000</td>\n",
       "    </tr>\n",
       "    <tr>\n",
       "      <th>50%</th>\n",
       "      <td>9.927800e+05</td>\n",
       "      <td>450.000000</td>\n",
       "      <td>500.000000</td>\n",
       "      <td>145.000000</td>\n",
       "      <td>13.000000</td>\n",
       "      <td>13.000000</td>\n",
       "    </tr>\n",
       "    <tr>\n",
       "      <th>75%</th>\n",
       "      <td>1.163653e+06</td>\n",
       "      <td>900.000000</td>\n",
       "      <td>1000.000000</td>\n",
       "      <td>204.000000</td>\n",
       "      <td>14.000000</td>\n",
       "      <td>24.000000</td>\n",
       "    </tr>\n",
       "    <tr>\n",
       "      <th>max</th>\n",
       "      <td>1.340339e+06</td>\n",
       "      <td>100000.000000</td>\n",
       "      <td>100000.000000</td>\n",
       "      <td>536.000000</td>\n",
       "      <td>158.000000</td>\n",
       "      <td>2986.000000</td>\n",
       "    </tr>\n",
       "  </tbody>\n",
       "</table>\n",
       "</div>"
      ],
      "text/plain": [
       "                 id  funded_amount    loan_amount     partner_id  \\\n",
       "count  6.712050e+05  671205.000000  671205.000000  657698.000000   \n",
       "mean   9.932486e+05     785.995061     842.397107     178.199616   \n",
       "std    1.966113e+05    1130.398941    1198.660073      94.247581   \n",
       "min    6.530470e+05       0.000000      25.000000       9.000000   \n",
       "25%    8.230720e+05     250.000000     275.000000     126.000000   \n",
       "50%    9.927800e+05     450.000000     500.000000     145.000000   \n",
       "75%    1.163653e+06     900.000000    1000.000000     204.000000   \n",
       "max    1.340339e+06  100000.000000  100000.000000     536.000000   \n",
       "\n",
       "       term_in_months   lender_count  \n",
       "count   671205.000000  671205.000000  \n",
       "mean        13.739022      20.590922  \n",
       "std          8.598919      28.459551  \n",
       "min          1.000000       0.000000  \n",
       "25%          8.000000       7.000000  \n",
       "50%         13.000000      13.000000  \n",
       "75%         14.000000      24.000000  \n",
       "max        158.000000    2986.000000  "
      ]
     },
     "execution_count": 25,
     "metadata": {},
     "output_type": "execute_result"
    }
   ],
   "source": [
    "loans.describe()"
   ]
  },
  {
   "cell_type": "code",
   "execution_count": 26,
   "metadata": {},
   "outputs": [
    {
     "data": {
      "text/html": [
       "<div>\n",
       "<style scoped>\n",
       "    .dataframe tbody tr th:only-of-type {\n",
       "        vertical-align: middle;\n",
       "    }\n",
       "\n",
       "    .dataframe tbody tr th {\n",
       "        vertical-align: top;\n",
       "    }\n",
       "\n",
       "    .dataframe thead th {\n",
       "        text-align: right;\n",
       "    }\n",
       "</style>\n",
       "<table border=\"1\" class=\"dataframe\">\n",
       "  <thead>\n",
       "    <tr style=\"text-align: right;\">\n",
       "      <th></th>\n",
       "      <th>id</th>\n",
       "      <th>funded_amount</th>\n",
       "      <th>loan_amount</th>\n",
       "      <th>activity</th>\n",
       "      <th>sector</th>\n",
       "      <th>use</th>\n",
       "      <th>country_code</th>\n",
       "      <th>country</th>\n",
       "      <th>region</th>\n",
       "      <th>currency</th>\n",
       "      <th>partner_id</th>\n",
       "      <th>posted_time</th>\n",
       "      <th>disbursed_time</th>\n",
       "      <th>funded_time</th>\n",
       "      <th>term_in_months</th>\n",
       "      <th>lender_count</th>\n",
       "      <th>tags</th>\n",
       "      <th>borrower_genders</th>\n",
       "      <th>repayment_interval</th>\n",
       "      <th>date</th>\n",
       "    </tr>\n",
       "  </thead>\n",
       "  <tbody>\n",
       "    <tr>\n",
       "      <th>count</th>\n",
       "      <td>6.712050e+05</td>\n",
       "      <td>671205.000000</td>\n",
       "      <td>671205.000000</td>\n",
       "      <td>671205</td>\n",
       "      <td>671205</td>\n",
       "      <td>666973</td>\n",
       "      <td>671197</td>\n",
       "      <td>671205</td>\n",
       "      <td>614405</td>\n",
       "      <td>671205</td>\n",
       "      <td>657698.000000</td>\n",
       "      <td>671205</td>\n",
       "      <td>668809</td>\n",
       "      <td>622874</td>\n",
       "      <td>671205.000000</td>\n",
       "      <td>671205.000000</td>\n",
       "      <td>499789</td>\n",
       "      <td>666984</td>\n",
       "      <td>671205</td>\n",
       "      <td>671205</td>\n",
       "    </tr>\n",
       "    <tr>\n",
       "      <th>unique</th>\n",
       "      <td>NaN</td>\n",
       "      <td>NaN</td>\n",
       "      <td>NaN</td>\n",
       "      <td>163</td>\n",
       "      <td>15</td>\n",
       "      <td>424912</td>\n",
       "      <td>86</td>\n",
       "      <td>87</td>\n",
       "      <td>12695</td>\n",
       "      <td>67</td>\n",
       "      <td>NaN</td>\n",
       "      <td>667399</td>\n",
       "      <td>5719</td>\n",
       "      <td>498007</td>\n",
       "      <td>NaN</td>\n",
       "      <td>NaN</td>\n",
       "      <td>86719</td>\n",
       "      <td>11298</td>\n",
       "      <td>4</td>\n",
       "      <td>1298</td>\n",
       "    </tr>\n",
       "    <tr>\n",
       "      <th>top</th>\n",
       "      <td>NaN</td>\n",
       "      <td>NaN</td>\n",
       "      <td>NaN</td>\n",
       "      <td>Farming</td>\n",
       "      <td>Agriculture</td>\n",
       "      <td>to buy a water filter to provide safe drinking...</td>\n",
       "      <td>PH</td>\n",
       "      <td>Philippines</td>\n",
       "      <td>Kaduna</td>\n",
       "      <td>PHP</td>\n",
       "      <td>NaN</td>\n",
       "      <td>2017-05-15 00:00:00+00:00</td>\n",
       "      <td>2017-02-01 08:00:00+00:00</td>\n",
       "      <td>2016-09-21 13:03:24+00:00</td>\n",
       "      <td>NaN</td>\n",
       "      <td>NaN</td>\n",
       "      <td>user_favorite</td>\n",
       "      <td>female</td>\n",
       "      <td>monthly</td>\n",
       "      <td>2017-03-20</td>\n",
       "    </tr>\n",
       "    <tr>\n",
       "      <th>freq</th>\n",
       "      <td>NaN</td>\n",
       "      <td>NaN</td>\n",
       "      <td>NaN</td>\n",
       "      <td>72955</td>\n",
       "      <td>180302</td>\n",
       "      <td>5217</td>\n",
       "      <td>160441</td>\n",
       "      <td>160441</td>\n",
       "      <td>10000</td>\n",
       "      <td>160440</td>\n",
       "      <td>NaN</td>\n",
       "      <td>25</td>\n",
       "      <td>2800</td>\n",
       "      <td>33</td>\n",
       "      <td>NaN</td>\n",
       "      <td>NaN</td>\n",
       "      <td>27088</td>\n",
       "      <td>426502</td>\n",
       "      <td>342717</td>\n",
       "      <td>1308</td>\n",
       "    </tr>\n",
       "    <tr>\n",
       "      <th>mean</th>\n",
       "      <td>9.932486e+05</td>\n",
       "      <td>785.995061</td>\n",
       "      <td>842.397107</td>\n",
       "      <td>NaN</td>\n",
       "      <td>NaN</td>\n",
       "      <td>NaN</td>\n",
       "      <td>NaN</td>\n",
       "      <td>NaN</td>\n",
       "      <td>NaN</td>\n",
       "      <td>NaN</td>\n",
       "      <td>178.199616</td>\n",
       "      <td>NaN</td>\n",
       "      <td>NaN</td>\n",
       "      <td>NaN</td>\n",
       "      <td>13.739022</td>\n",
       "      <td>20.590922</td>\n",
       "      <td>NaN</td>\n",
       "      <td>NaN</td>\n",
       "      <td>NaN</td>\n",
       "      <td>NaN</td>\n",
       "    </tr>\n",
       "    <tr>\n",
       "      <th>std</th>\n",
       "      <td>1.966113e+05</td>\n",
       "      <td>1130.398941</td>\n",
       "      <td>1198.660073</td>\n",
       "      <td>NaN</td>\n",
       "      <td>NaN</td>\n",
       "      <td>NaN</td>\n",
       "      <td>NaN</td>\n",
       "      <td>NaN</td>\n",
       "      <td>NaN</td>\n",
       "      <td>NaN</td>\n",
       "      <td>94.247581</td>\n",
       "      <td>NaN</td>\n",
       "      <td>NaN</td>\n",
       "      <td>NaN</td>\n",
       "      <td>8.598919</td>\n",
       "      <td>28.459551</td>\n",
       "      <td>NaN</td>\n",
       "      <td>NaN</td>\n",
       "      <td>NaN</td>\n",
       "      <td>NaN</td>\n",
       "    </tr>\n",
       "    <tr>\n",
       "      <th>min</th>\n",
       "      <td>6.530470e+05</td>\n",
       "      <td>0.000000</td>\n",
       "      <td>25.000000</td>\n",
       "      <td>NaN</td>\n",
       "      <td>NaN</td>\n",
       "      <td>NaN</td>\n",
       "      <td>NaN</td>\n",
       "      <td>NaN</td>\n",
       "      <td>NaN</td>\n",
       "      <td>NaN</td>\n",
       "      <td>9.000000</td>\n",
       "      <td>NaN</td>\n",
       "      <td>NaN</td>\n",
       "      <td>NaN</td>\n",
       "      <td>1.000000</td>\n",
       "      <td>0.000000</td>\n",
       "      <td>NaN</td>\n",
       "      <td>NaN</td>\n",
       "      <td>NaN</td>\n",
       "      <td>NaN</td>\n",
       "    </tr>\n",
       "    <tr>\n",
       "      <th>25%</th>\n",
       "      <td>8.230720e+05</td>\n",
       "      <td>250.000000</td>\n",
       "      <td>275.000000</td>\n",
       "      <td>NaN</td>\n",
       "      <td>NaN</td>\n",
       "      <td>NaN</td>\n",
       "      <td>NaN</td>\n",
       "      <td>NaN</td>\n",
       "      <td>NaN</td>\n",
       "      <td>NaN</td>\n",
       "      <td>126.000000</td>\n",
       "      <td>NaN</td>\n",
       "      <td>NaN</td>\n",
       "      <td>NaN</td>\n",
       "      <td>8.000000</td>\n",
       "      <td>7.000000</td>\n",
       "      <td>NaN</td>\n",
       "      <td>NaN</td>\n",
       "      <td>NaN</td>\n",
       "      <td>NaN</td>\n",
       "    </tr>\n",
       "    <tr>\n",
       "      <th>50%</th>\n",
       "      <td>9.927800e+05</td>\n",
       "      <td>450.000000</td>\n",
       "      <td>500.000000</td>\n",
       "      <td>NaN</td>\n",
       "      <td>NaN</td>\n",
       "      <td>NaN</td>\n",
       "      <td>NaN</td>\n",
       "      <td>NaN</td>\n",
       "      <td>NaN</td>\n",
       "      <td>NaN</td>\n",
       "      <td>145.000000</td>\n",
       "      <td>NaN</td>\n",
       "      <td>NaN</td>\n",
       "      <td>NaN</td>\n",
       "      <td>13.000000</td>\n",
       "      <td>13.000000</td>\n",
       "      <td>NaN</td>\n",
       "      <td>NaN</td>\n",
       "      <td>NaN</td>\n",
       "      <td>NaN</td>\n",
       "    </tr>\n",
       "    <tr>\n",
       "      <th>75%</th>\n",
       "      <td>1.163653e+06</td>\n",
       "      <td>900.000000</td>\n",
       "      <td>1000.000000</td>\n",
       "      <td>NaN</td>\n",
       "      <td>NaN</td>\n",
       "      <td>NaN</td>\n",
       "      <td>NaN</td>\n",
       "      <td>NaN</td>\n",
       "      <td>NaN</td>\n",
       "      <td>NaN</td>\n",
       "      <td>204.000000</td>\n",
       "      <td>NaN</td>\n",
       "      <td>NaN</td>\n",
       "      <td>NaN</td>\n",
       "      <td>14.000000</td>\n",
       "      <td>24.000000</td>\n",
       "      <td>NaN</td>\n",
       "      <td>NaN</td>\n",
       "      <td>NaN</td>\n",
       "      <td>NaN</td>\n",
       "    </tr>\n",
       "    <tr>\n",
       "      <th>max</th>\n",
       "      <td>1.340339e+06</td>\n",
       "      <td>100000.000000</td>\n",
       "      <td>100000.000000</td>\n",
       "      <td>NaN</td>\n",
       "      <td>NaN</td>\n",
       "      <td>NaN</td>\n",
       "      <td>NaN</td>\n",
       "      <td>NaN</td>\n",
       "      <td>NaN</td>\n",
       "      <td>NaN</td>\n",
       "      <td>536.000000</td>\n",
       "      <td>NaN</td>\n",
       "      <td>NaN</td>\n",
       "      <td>NaN</td>\n",
       "      <td>158.000000</td>\n",
       "      <td>2986.000000</td>\n",
       "      <td>NaN</td>\n",
       "      <td>NaN</td>\n",
       "      <td>NaN</td>\n",
       "      <td>NaN</td>\n",
       "    </tr>\n",
       "  </tbody>\n",
       "</table>\n",
       "</div>"
      ],
      "text/plain": [
       "                  id  funded_amount    loan_amount activity       sector  \\\n",
       "count   6.712050e+05  671205.000000  671205.000000   671205       671205   \n",
       "unique           NaN            NaN            NaN      163           15   \n",
       "top              NaN            NaN            NaN  Farming  Agriculture   \n",
       "freq             NaN            NaN            NaN    72955       180302   \n",
       "mean    9.932486e+05     785.995061     842.397107      NaN          NaN   \n",
       "std     1.966113e+05    1130.398941    1198.660073      NaN          NaN   \n",
       "min     6.530470e+05       0.000000      25.000000      NaN          NaN   \n",
       "25%     8.230720e+05     250.000000     275.000000      NaN          NaN   \n",
       "50%     9.927800e+05     450.000000     500.000000      NaN          NaN   \n",
       "75%     1.163653e+06     900.000000    1000.000000      NaN          NaN   \n",
       "max     1.340339e+06  100000.000000  100000.000000      NaN          NaN   \n",
       "\n",
       "                                                      use country_code  \\\n",
       "count                                              666973       671197   \n",
       "unique                                             424912           86   \n",
       "top     to buy a water filter to provide safe drinking...           PH   \n",
       "freq                                                 5217       160441   \n",
       "mean                                                  NaN          NaN   \n",
       "std                                                   NaN          NaN   \n",
       "min                                                   NaN          NaN   \n",
       "25%                                                   NaN          NaN   \n",
       "50%                                                   NaN          NaN   \n",
       "75%                                                   NaN          NaN   \n",
       "max                                                   NaN          NaN   \n",
       "\n",
       "            country  region currency     partner_id  \\\n",
       "count        671205  614405   671205  657698.000000   \n",
       "unique           87   12695       67            NaN   \n",
       "top     Philippines  Kaduna      PHP            NaN   \n",
       "freq         160441   10000   160440            NaN   \n",
       "mean            NaN     NaN      NaN     178.199616   \n",
       "std             NaN     NaN      NaN      94.247581   \n",
       "min             NaN     NaN      NaN       9.000000   \n",
       "25%             NaN     NaN      NaN     126.000000   \n",
       "50%             NaN     NaN      NaN     145.000000   \n",
       "75%             NaN     NaN      NaN     204.000000   \n",
       "max             NaN     NaN      NaN     536.000000   \n",
       "\n",
       "                      posted_time             disbursed_time  \\\n",
       "count                      671205                     668809   \n",
       "unique                     667399                       5719   \n",
       "top     2017-05-15 00:00:00+00:00  2017-02-01 08:00:00+00:00   \n",
       "freq                           25                       2800   \n",
       "mean                          NaN                        NaN   \n",
       "std                           NaN                        NaN   \n",
       "min                           NaN                        NaN   \n",
       "25%                           NaN                        NaN   \n",
       "50%                           NaN                        NaN   \n",
       "75%                           NaN                        NaN   \n",
       "max                           NaN                        NaN   \n",
       "\n",
       "                      funded_time  term_in_months   lender_count  \\\n",
       "count                      622874   671205.000000  671205.000000   \n",
       "unique                     498007             NaN            NaN   \n",
       "top     2016-09-21 13:03:24+00:00             NaN            NaN   \n",
       "freq                           33             NaN            NaN   \n",
       "mean                          NaN       13.739022      20.590922   \n",
       "std                           NaN        8.598919      28.459551   \n",
       "min                           NaN        1.000000       0.000000   \n",
       "25%                           NaN        8.000000       7.000000   \n",
       "50%                           NaN       13.000000      13.000000   \n",
       "75%                           NaN       14.000000      24.000000   \n",
       "max                           NaN      158.000000    2986.000000   \n",
       "\n",
       "                 tags borrower_genders repayment_interval        date  \n",
       "count          499789           666984             671205      671205  \n",
       "unique          86719            11298                  4        1298  \n",
       "top     user_favorite           female            monthly  2017-03-20  \n",
       "freq            27088           426502             342717        1308  \n",
       "mean              NaN              NaN                NaN         NaN  \n",
       "std               NaN              NaN                NaN         NaN  \n",
       "min               NaN              NaN                NaN         NaN  \n",
       "25%               NaN              NaN                NaN         NaN  \n",
       "50%               NaN              NaN                NaN         NaN  \n",
       "75%               NaN              NaN                NaN         NaN  \n",
       "max               NaN              NaN                NaN         NaN  "
      ]
     },
     "execution_count": 26,
     "metadata": {},
     "output_type": "execute_result"
    }
   ],
   "source": [
    "loans.describe(include = 'all')"
   ]
  },
  {
   "cell_type": "code",
   "execution_count": 27,
   "metadata": {},
   "outputs": [
    {
     "data": {
      "text/plain": [
       "id                         0\n",
       "funded_amount              0\n",
       "loan_amount                0\n",
       "activity                   0\n",
       "sector                     0\n",
       "use                     4232\n",
       "country_code               8\n",
       "country                    0\n",
       "region                 56800\n",
       "currency                   0\n",
       "partner_id             13507\n",
       "posted_time                0\n",
       "disbursed_time          2396\n",
       "funded_time            48331\n",
       "term_in_months             0\n",
       "lender_count               0\n",
       "tags                  171416\n",
       "borrower_genders        4221\n",
       "repayment_interval         0\n",
       "date                       0\n",
       "dtype: int64"
      ]
     },
     "execution_count": 27,
     "metadata": {},
     "output_type": "execute_result"
    }
   ],
   "source": [
    "loans.isnull().sum()"
   ]
  },
  {
   "cell_type": "markdown",
   "metadata": {},
   "source": [
    "# Functions"
   ]
  },
  {
   "cell_type": "code",
   "execution_count": 28,
   "metadata": {},
   "outputs": [],
   "source": [
    "def loan_percent():\n",
    "    c = loans['country'].value_counts().index\n",
    "    ctry_l_percent = {}\n",
    "    for con in c:\n",
    "        calc = loans[loans['country'] == con]['loan_amount'].sum()/loans['loan_amount'].sum()\n",
    "        ctry_l_percent[con] = round(calc*100,2)\n",
    "    return ctry_l_percent"
   ]
  },
  {
   "cell_type": "code",
   "execution_count": 29,
   "metadata": {},
   "outputs": [],
   "source": [
    "lp = loan_percent()"
   ]
  },
  {
   "cell_type": "code",
   "execution_count": 31,
   "metadata": {},
   "outputs": [],
   "source": [
    "def countries_fund():\n",
    "    c = loans['country'].value_counts().index\n",
    "    ctry_fund = {}\n",
    "    for ctry in c:\n",
    "        cal = loans[loans['country'] == ctry]['funded_amount'].mean()\n",
    "        ctry_fund[ctry] = cal\n",
    "    return ctry_fund"
   ]
  },
  {
   "cell_type": "code",
   "execution_count": 32,
   "metadata": {},
   "outputs": [],
   "source": [
    "def region_fund():\n",
    "    re = loans['region'].value_counts().index\n",
    "    reg1_fund = {}\n",
    "    for regg in re:\n",
    "        cal6 = loans[loans['region'] == regg]['funded_amount'].mean()\n",
    "        reg1_fund[regg] = cal6\n",
    "    return reg1_fund"
   ]
  },
  {
   "cell_type": "code",
   "execution_count": 33,
   "metadata": {},
   "outputs": [],
   "source": [
    "def activities_fund():\n",
    "    a = loans['activity'].value_counts().index\n",
    "    act_fund = {}\n",
    "    for act in a:\n",
    "        cal1 = loans[loans['activity'] == act]['funded_amount'].mean()\n",
    "        act_fund[act] = cal1\n",
    "    return act_fund"
   ]
  },
  {
   "cell_type": "code",
   "execution_count": 34,
   "metadata": {},
   "outputs": [],
   "source": [
    "def sectors_fund():\n",
    "    s = loans['sector'].value_counts().index\n",
    "    sec_fund = {}\n",
    "    for sec in s:\n",
    "        cal2 = loans[loans['sector'] == sec]['funded_amount'].mean()\n",
    "        sec_fund[sec] = cal2\n",
    "    return sec_fund"
   ]
  },
  {
   "cell_type": "code",
   "execution_count": 35,
   "metadata": {},
   "outputs": [],
   "source": [
    "def poor_find():\n",
    "    p = k_mpi_reg_loc['region'].value_counts().index\n",
    "    poor = {}\n",
    "    for ct in p:\n",
    "        cal5 = k_mpi_reg_loc['MPI']\n",
    "        poor[ct] = cal5\n",
    "    return poor"
   ]
  },
  {
   "cell_type": "code",
   "execution_count": 36,
   "metadata": {},
   "outputs": [],
   "source": [
    "poor_reg = poor_find()"
   ]
  },
  {
   "cell_type": "code",
   "execution_count": 38,
   "metadata": {},
   "outputs": [],
   "source": [
    "cf = countries_fund()\n",
    "af = activities_fund()\n",
    "sf = sectors_fund()\n",
    "rf1 = region_fund()"
   ]
  },
  {
   "cell_type": "code",
   "execution_count": 39,
   "metadata": {},
   "outputs": [],
   "source": [
    "items1 = [(v,k) for k, v in cf.items()]\n",
    "items1.sort()\n",
    "items2 = [(v,k) for k, v in af.items()]\n",
    "items2.sort()\n",
    "items3 = [(v,k) for k, v in sf.items()]\n",
    "items3.sort()\n",
    "items4 = [(v,k) for k, v in rf1.items()]\n",
    "items4.sort()"
   ]
  },
  {
   "cell_type": "markdown",
   "metadata": {},
   "source": [
    "# TOP 10"
   ]
  },
  {
   "cell_type": "code",
   "execution_count": 40,
   "metadata": {
    "scrolled": true
   },
   "outputs": [
    {
     "data": {
      "text/plain": [
       "[(50000.0, \"Cote D'Ivoire\"),\n",
       " (15000.0, 'Mauritania'),\n",
       " (7812.5, 'Bhutan'),\n",
       " (7625.0, 'Chile'),\n",
       " (7000.0, 'Afghanistan'),\n",
       " (6142.578125, 'Congo'),\n",
       " (4409.191176470588, 'Puerto Rico'),\n",
       " (4200.604838709677, 'Dominican Republic'),\n",
       " (4046.875, 'Namibia'),\n",
       " (3800.8435910060725, 'United States')]"
      ]
     },
     "execution_count": 40,
     "metadata": {},
     "output_type": "execute_result"
    }
   ],
   "source": [
    "#top 10 countries on funded amount(mean)\n",
    "items1[::-1][:10]"
   ]
  },
  {
   "cell_type": "code",
   "execution_count": 41,
   "metadata": {},
   "outputs": [
    {
     "data": {
      "text/plain": [
       "[(50000.0, 'Tsihombe'),\n",
       " (50000.0, 'Simeulue'),\n",
       " (50000.0, 'Parakou'),\n",
       " (50000.0, 'MUSOMA'),\n",
       " (50000.0, 'Kolia'),\n",
       " (50000.0, 'Juba'),\n",
       " (50000.0, 'Cerrik'),\n",
       " (45850.0, 'Cherán'),\n",
       " (35000.0, 'Vicuna'),\n",
       " (33583.333333333336, 'Les Cayes')]"
      ]
     },
     "execution_count": 41,
     "metadata": {},
     "output_type": "execute_result"
    }
   ],
   "source": [
    "#top 10 region on funded amount(mean)\n",
    "items4[::-1][:10]"
   ]
  },
  {
   "cell_type": "code",
   "execution_count": 42,
   "metadata": {},
   "outputs": [
    {
     "data": {
      "text/plain": [
       "[(3640.1470588235293, 'Landscaping / Gardening'),\n",
       " (3074.6581196581196, 'Renewable Energy Products'),\n",
       " (2405.870786516854, 'Technology'),\n",
       " (2325.8854166666665, 'Communications'),\n",
       " (2280.3278688524592, 'Child Care'),\n",
       " (2228.1724137931033, 'Cleaning Services'),\n",
       " (2092.3076923076924, 'Film'),\n",
       " (1851.595744680851, 'Used Shoes'),\n",
       " (1829.6153846153845, 'Florist'),\n",
       " (1700.3810975609756, 'Perfumes')]"
      ]
     },
     "execution_count": 42,
     "metadata": {},
     "output_type": "execute_result"
    }
   ],
   "source": [
    "#Top 10 activities on funded amount(mean)\n",
    "items2[::-1][:10]"
   ]
  },
  {
   "cell_type": "code",
   "execution_count": 43,
   "metadata": {},
   "outputs": [
    {
     "data": {
      "text/plain": [
       "[(1449.3690851735016, 'Wholesale'),\n",
       " (1232.644578313253, 'Entertainment'),\n",
       " (1063.0160039093519, 'Clothing'),\n",
       " (1008.5378111040204, 'Construction'),\n",
       " (994.4974520221186, 'Health'),\n",
       " (980.1869817578773, 'Arts'),\n",
       " (968.7847031889853, 'Education'),\n",
       " (951.840607000443, 'Services'),\n",
       " (862.8624355670103, 'Manufacturing'),\n",
       " (842.1757392596062, 'Food')]"
      ]
     },
     "execution_count": 43,
     "metadata": {},
     "output_type": "execute_result"
    }
   ],
   "source": [
    "#Top 10 Funded sectors\n",
    "items3[::-1][:10]"
   ]
  },
  {
   "cell_type": "code",
   "execution_count": 147,
   "metadata": {},
   "outputs": [
    {
     "data": {
      "text/html": [
       "<div>\n",
       "<style scoped>\n",
       "    .dataframe tbody tr th:only-of-type {\n",
       "        vertical-align: middle;\n",
       "    }\n",
       "\n",
       "    .dataframe tbody tr th {\n",
       "        vertical-align: top;\n",
       "    }\n",
       "\n",
       "    .dataframe thead th {\n",
       "        text-align: right;\n",
       "    }\n",
       "</style>\n",
       "<table border=\"1\" class=\"dataframe\">\n",
       "  <thead>\n",
       "    <tr style=\"text-align: right;\">\n",
       "      <th></th>\n",
       "      <th>LocationName</th>\n",
       "      <th>ISO</th>\n",
       "      <th>country</th>\n",
       "      <th>region</th>\n",
       "      <th>world_region</th>\n",
       "      <th>MPI</th>\n",
       "      <th>geo</th>\n",
       "      <th>lat</th>\n",
       "      <th>lon</th>\n",
       "    </tr>\n",
       "  </thead>\n",
       "  <tbody>\n",
       "    <tr>\n",
       "      <th>0</th>\n",
       "      <td>Lac, Chad</td>\n",
       "      <td>TCD</td>\n",
       "      <td>Chad</td>\n",
       "      <td>Lac</td>\n",
       "      <td>Sub-Saharan Africa</td>\n",
       "      <td>0.744</td>\n",
       "      <td>(18.3281428, -77.2405153)</td>\n",
       "      <td>18.328143</td>\n",
       "      <td>-77.240515</td>\n",
       "    </tr>\n",
       "    <tr>\n",
       "      <th>1</th>\n",
       "      <td>Wadi Fira, Chad</td>\n",
       "      <td>TCD</td>\n",
       "      <td>Chad</td>\n",
       "      <td>Wadi Fira</td>\n",
       "      <td>Sub-Saharan Africa</td>\n",
       "      <td>0.709</td>\n",
       "      <td>(15.0892416, 21.4752851)</td>\n",
       "      <td>15.089242</td>\n",
       "      <td>21.475285</td>\n",
       "    </tr>\n",
       "    <tr>\n",
       "      <th>2</th>\n",
       "      <td>Est, Burkina Faso</td>\n",
       "      <td>BFA</td>\n",
       "      <td>Burkina Faso</td>\n",
       "      <td>Est</td>\n",
       "      <td>Sub-Saharan Africa</td>\n",
       "      <td>0.698</td>\n",
       "      <td>(12.4365526, 0.9056623)</td>\n",
       "      <td>12.436553</td>\n",
       "      <td>0.905662</td>\n",
       "    </tr>\n",
       "  </tbody>\n",
       "</table>\n",
       "</div>"
      ],
      "text/plain": [
       "        LocationName  ISO       country     region        world_region    MPI  \\\n",
       "0          Lac, Chad  TCD          Chad        Lac  Sub-Saharan Africa  0.744   \n",
       "1    Wadi Fira, Chad  TCD          Chad  Wadi Fira  Sub-Saharan Africa  0.709   \n",
       "2  Est, Burkina Faso  BFA  Burkina Faso        Est  Sub-Saharan Africa  0.698   \n",
       "\n",
       "                         geo        lat        lon  \n",
       "0  (18.3281428, -77.2405153)  18.328143 -77.240515  \n",
       "1   (15.0892416, 21.4752851)  15.089242  21.475285  \n",
       "2    (12.4365526, 0.9056623)  12.436553   0.905662  "
      ]
     },
     "execution_count": 147,
     "metadata": {},
     "output_type": "execute_result"
    }
   ],
   "source": [
    "sorted_k_mpi_reg.head(3)"
   ]
  },
  {
   "cell_type": "code",
   "execution_count": 45,
   "metadata": {},
   "outputs": [],
   "source": [
    "Top_10_poor_countries = sorted_k_mpi_reg[['LocationName','country','region','world_region','MPI']]"
   ]
  },
  {
   "cell_type": "code",
   "execution_count": 46,
   "metadata": {
    "scrolled": true
   },
   "outputs": [
    {
     "data": {
      "text/html": [
       "<div>\n",
       "<style scoped>\n",
       "    .dataframe tbody tr th:only-of-type {\n",
       "        vertical-align: middle;\n",
       "    }\n",
       "\n",
       "    .dataframe tbody tr th {\n",
       "        vertical-align: top;\n",
       "    }\n",
       "\n",
       "    .dataframe thead th {\n",
       "        text-align: right;\n",
       "    }\n",
       "</style>\n",
       "<table border=\"1\" class=\"dataframe\">\n",
       "  <thead>\n",
       "    <tr style=\"text-align: right;\">\n",
       "      <th></th>\n",
       "      <th>LocationName</th>\n",
       "      <th>country</th>\n",
       "      <th>region</th>\n",
       "      <th>world_region</th>\n",
       "      <th>MPI</th>\n",
       "    </tr>\n",
       "  </thead>\n",
       "  <tbody>\n",
       "    <tr>\n",
       "      <th>0</th>\n",
       "      <td>Lac, Chad</td>\n",
       "      <td>Chad</td>\n",
       "      <td>Lac</td>\n",
       "      <td>Sub-Saharan Africa</td>\n",
       "      <td>0.744</td>\n",
       "    </tr>\n",
       "    <tr>\n",
       "      <th>1</th>\n",
       "      <td>Wadi Fira, Chad</td>\n",
       "      <td>Chad</td>\n",
       "      <td>Wadi Fira</td>\n",
       "      <td>Sub-Saharan Africa</td>\n",
       "      <td>0.709</td>\n",
       "    </tr>\n",
       "    <tr>\n",
       "      <th>2</th>\n",
       "      <td>Est, Burkina Faso</td>\n",
       "      <td>Burkina Faso</td>\n",
       "      <td>Est</td>\n",
       "      <td>Sub-Saharan Africa</td>\n",
       "      <td>0.698</td>\n",
       "    </tr>\n",
       "    <tr>\n",
       "      <th>3</th>\n",
       "      <td>Sila, Chad</td>\n",
       "      <td>Chad</td>\n",
       "      <td>Sila</td>\n",
       "      <td>Sub-Saharan Africa</td>\n",
       "      <td>0.697</td>\n",
       "    </tr>\n",
       "    <tr>\n",
       "      <th>4</th>\n",
       "      <td>Kanem, Chad</td>\n",
       "      <td>Chad</td>\n",
       "      <td>Kanem</td>\n",
       "      <td>Sub-Saharan Africa</td>\n",
       "      <td>0.696</td>\n",
       "    </tr>\n",
       "    <tr>\n",
       "      <th>5</th>\n",
       "      <td>Sahel, Burkina Faso</td>\n",
       "      <td>Burkina Faso</td>\n",
       "      <td>Sahel</td>\n",
       "      <td>Sub-Saharan Africa</td>\n",
       "      <td>0.690</td>\n",
       "    </tr>\n",
       "    <tr>\n",
       "      <th>6</th>\n",
       "      <td>Ouaddað, Chad</td>\n",
       "      <td>Chad</td>\n",
       "      <td>Ouaddað</td>\n",
       "      <td>Sub-Saharan Africa</td>\n",
       "      <td>0.683</td>\n",
       "    </tr>\n",
       "    <tr>\n",
       "      <th>7</th>\n",
       "      <td>Salamat, Chad</td>\n",
       "      <td>Chad</td>\n",
       "      <td>Salamat</td>\n",
       "      <td>Sub-Saharan Africa</td>\n",
       "      <td>0.678</td>\n",
       "    </tr>\n",
       "    <tr>\n",
       "      <th>8</th>\n",
       "      <td>Maradi, Niger</td>\n",
       "      <td>Niger</td>\n",
       "      <td>Maradi</td>\n",
       "      <td>Sub-Saharan Africa</td>\n",
       "      <td>0.664</td>\n",
       "    </tr>\n",
       "    <tr>\n",
       "      <th>9</th>\n",
       "      <td>Affar, Ethiopia</td>\n",
       "      <td>Ethiopia</td>\n",
       "      <td>Affar</td>\n",
       "      <td>Sub-Saharan Africa</td>\n",
       "      <td>0.663</td>\n",
       "    </tr>\n",
       "    <tr>\n",
       "      <th>10</th>\n",
       "      <td>Warap, South Sudan</td>\n",
       "      <td>South Sudan</td>\n",
       "      <td>Warap</td>\n",
       "      <td>Sub-Saharan Africa</td>\n",
       "      <td>0.661</td>\n",
       "    </tr>\n",
       "    <tr>\n",
       "      <th>11</th>\n",
       "      <td>Batha, Chad</td>\n",
       "      <td>Chad</td>\n",
       "      <td>Batha</td>\n",
       "      <td>Sub-Saharan Africa</td>\n",
       "      <td>0.659</td>\n",
       "    </tr>\n",
       "    <tr>\n",
       "      <th>12</th>\n",
       "      <td>Sud-ouest, Burkina Faso</td>\n",
       "      <td>Burkina Faso</td>\n",
       "      <td>Sud-ouest</td>\n",
       "      <td>Sub-Saharan Africa</td>\n",
       "      <td>0.655</td>\n",
       "    </tr>\n",
       "    <tr>\n",
       "      <th>13</th>\n",
       "      <td>Hadjer-Lamis, Chad</td>\n",
       "      <td>Chad</td>\n",
       "      <td>Hadjer-Lamis</td>\n",
       "      <td>Sub-Saharan Africa</td>\n",
       "      <td>0.654</td>\n",
       "    </tr>\n",
       "    <tr>\n",
       "      <th>14</th>\n",
       "      <td>Barh El Gazal, Chad</td>\n",
       "      <td>Chad</td>\n",
       "      <td>Barh El Gazal</td>\n",
       "      <td>Sub-Saharan Africa</td>\n",
       "      <td>0.654</td>\n",
       "    </tr>\n",
       "    <tr>\n",
       "      <th>15</th>\n",
       "      <td>Northern Bahr el Ghazal, South Sudan</td>\n",
       "      <td>South Sudan</td>\n",
       "      <td>Northern Bahr el Ghazal</td>\n",
       "      <td>Sub-Saharan Africa</td>\n",
       "      <td>0.652</td>\n",
       "    </tr>\n",
       "    <tr>\n",
       "      <th>16</th>\n",
       "      <td>Somali, Ethiopia</td>\n",
       "      <td>Ethiopia</td>\n",
       "      <td>Somali</td>\n",
       "      <td>Sub-Saharan Africa</td>\n",
       "      <td>0.647</td>\n",
       "    </tr>\n",
       "    <tr>\n",
       "      <th>17</th>\n",
       "      <td>Tahoua, Niger</td>\n",
       "      <td>Niger</td>\n",
       "      <td>Tahoua</td>\n",
       "      <td>Sub-Saharan Africa</td>\n",
       "      <td>0.646</td>\n",
       "    </tr>\n",
       "    <tr>\n",
       "      <th>18</th>\n",
       "      <td>Chari Baguirmi, Chad</td>\n",
       "      <td>Chad</td>\n",
       "      <td>Chari Baguirmi</td>\n",
       "      <td>Sub-Saharan Africa</td>\n",
       "      <td>0.646</td>\n",
       "    </tr>\n",
       "    <tr>\n",
       "      <th>19</th>\n",
       "      <td>GuðRa, Chad</td>\n",
       "      <td>Chad</td>\n",
       "      <td>GuðRa</td>\n",
       "      <td>Sub-Saharan Africa</td>\n",
       "      <td>0.643</td>\n",
       "    </tr>\n",
       "    <tr>\n",
       "      <th>20</th>\n",
       "      <td>Zinder, Niger</td>\n",
       "      <td>Niger</td>\n",
       "      <td>Zinder</td>\n",
       "      <td>Sub-Saharan Africa</td>\n",
       "      <td>0.641</td>\n",
       "    </tr>\n",
       "    <tr>\n",
       "      <th>21</th>\n",
       "      <td>Yobe, Nigeria</td>\n",
       "      <td>Nigeria</td>\n",
       "      <td>Yobe</td>\n",
       "      <td>Sub-Saharan Africa</td>\n",
       "      <td>0.635</td>\n",
       "    </tr>\n",
       "    <tr>\n",
       "      <th>22</th>\n",
       "      <td>Karamoja, Uganda</td>\n",
       "      <td>Uganda</td>\n",
       "      <td>Karamoja</td>\n",
       "      <td>Sub-Saharan Africa</td>\n",
       "      <td>0.634</td>\n",
       "    </tr>\n",
       "    <tr>\n",
       "      <th>23</th>\n",
       "      <td>Jonglei and Unity, South Sudan</td>\n",
       "      <td>South Sudan</td>\n",
       "      <td>Jonglei and Unity</td>\n",
       "      <td>Sub-Saharan Africa</td>\n",
       "      <td>0.628</td>\n",
       "    </tr>\n",
       "    <tr>\n",
       "      <th>24</th>\n",
       "      <td>Ennedi, Chad</td>\n",
       "      <td>Chad</td>\n",
       "      <td>Ennedi</td>\n",
       "      <td>Sub-Saharan Africa</td>\n",
       "      <td>0.625</td>\n",
       "    </tr>\n",
       "    <tr>\n",
       "      <th>25</th>\n",
       "      <td>Urozgan, Afghanistan</td>\n",
       "      <td>Afghanistan</td>\n",
       "      <td>Urozgan</td>\n",
       "      <td>South Asia</td>\n",
       "      <td>0.624</td>\n",
       "    </tr>\n",
       "    <tr>\n",
       "      <th>26</th>\n",
       "      <td>Dosso, Niger</td>\n",
       "      <td>Niger</td>\n",
       "      <td>Dosso</td>\n",
       "      <td>Sub-Saharan Africa</td>\n",
       "      <td>0.620</td>\n",
       "    </tr>\n",
       "    <tr>\n",
       "      <th>27</th>\n",
       "      <td>Nooristan, Afghanistan</td>\n",
       "      <td>Afghanistan</td>\n",
       "      <td>Nooristan</td>\n",
       "      <td>South Asia</td>\n",
       "      <td>0.611</td>\n",
       "    </tr>\n",
       "    <tr>\n",
       "      <th>28</th>\n",
       "      <td>Tillaberi, Niger</td>\n",
       "      <td>Niger</td>\n",
       "      <td>Tillaberi</td>\n",
       "      <td>Sub-Saharan Africa</td>\n",
       "      <td>0.609</td>\n",
       "    </tr>\n",
       "    <tr>\n",
       "      <th>29</th>\n",
       "      <td>Zamfara, Nigeria</td>\n",
       "      <td>Nigeria</td>\n",
       "      <td>Zamfara</td>\n",
       "      <td>Sub-Saharan Africa</td>\n",
       "      <td>0.605</td>\n",
       "    </tr>\n",
       "    <tr>\n",
       "      <th>...</th>\n",
       "      <td>...</td>\n",
       "      <td>...</td>\n",
       "      <td>...</td>\n",
       "      <td>...</td>\n",
       "      <td>...</td>\n",
       "    </tr>\n",
       "    <tr>\n",
       "      <th>70</th>\n",
       "      <td>Zambðzia, Mozambique</td>\n",
       "      <td>Mozambique</td>\n",
       "      <td>Zambðzia</td>\n",
       "      <td>Sub-Saharan Africa</td>\n",
       "      <td>0.528</td>\n",
       "    </tr>\n",
       "    <tr>\n",
       "      <th>71</th>\n",
       "      <td>Grand Bassa, Liberia</td>\n",
       "      <td>Liberia</td>\n",
       "      <td>Grand Bassa</td>\n",
       "      <td>Sub-Saharan Africa</td>\n",
       "      <td>0.527</td>\n",
       "    </tr>\n",
       "    <tr>\n",
       "      <th>72</th>\n",
       "      <td>Cabo Delgado, Mozambique</td>\n",
       "      <td>Mozambique</td>\n",
       "      <td>Cabo Delgado</td>\n",
       "      <td>Sub-Saharan Africa</td>\n",
       "      <td>0.525</td>\n",
       "    </tr>\n",
       "    <tr>\n",
       "      <th>73</th>\n",
       "      <td>Plateau central, Burkina Faso</td>\n",
       "      <td>Burkina Faso</td>\n",
       "      <td>Plateau central</td>\n",
       "      <td>Sub-Saharan Africa</td>\n",
       "      <td>0.524</td>\n",
       "    </tr>\n",
       "    <tr>\n",
       "      <th>74</th>\n",
       "      <td>Basse, Gambia</td>\n",
       "      <td>Gambia</td>\n",
       "      <td>Basse</td>\n",
       "      <td>Sub-Saharan Africa</td>\n",
       "      <td>0.524</td>\n",
       "    </tr>\n",
       "    <tr>\n",
       "      <th>75</th>\n",
       "      <td>Port Loko, Sierra Leone</td>\n",
       "      <td>Sierra Leone</td>\n",
       "      <td>Port Loko</td>\n",
       "      <td>Sub-Saharan Africa</td>\n",
       "      <td>0.522</td>\n",
       "    </tr>\n",
       "    <tr>\n",
       "      <th>76</th>\n",
       "      <td>Nana-Mambðrð, Central African Republic</td>\n",
       "      <td>Central African Republic</td>\n",
       "      <td>Nana-Mambðrð</td>\n",
       "      <td>Sub-Saharan Africa</td>\n",
       "      <td>0.520</td>\n",
       "    </tr>\n",
       "    <tr>\n",
       "      <th>77</th>\n",
       "      <td>Katsina, Nigeria</td>\n",
       "      <td>Nigeria</td>\n",
       "      <td>Katsina</td>\n",
       "      <td>Sub-Saharan Africa</td>\n",
       "      <td>0.520</td>\n",
       "    </tr>\n",
       "    <tr>\n",
       "      <th>78</th>\n",
       "      <td>Nord-Ouest, Cote d'Ivoire</td>\n",
       "      <td>Cote d'Ivoire</td>\n",
       "      <td>Nord-Ouest</td>\n",
       "      <td>Sub-Saharan Africa</td>\n",
       "      <td>0.518</td>\n",
       "    </tr>\n",
       "    <tr>\n",
       "      <th>79</th>\n",
       "      <td>Vatovavy Fitovinany, Madagascar</td>\n",
       "      <td>Madagascar</td>\n",
       "      <td>Vatovavy Fitovinany</td>\n",
       "      <td>Sub-Saharan Africa</td>\n",
       "      <td>0.514</td>\n",
       "    </tr>\n",
       "    <tr>\n",
       "      <th>80</th>\n",
       "      <td>Centre-sud, Burkina Faso</td>\n",
       "      <td>Burkina Faso</td>\n",
       "      <td>Centre-sud</td>\n",
       "      <td>Sub-Saharan Africa</td>\n",
       "      <td>0.513</td>\n",
       "    </tr>\n",
       "    <tr>\n",
       "      <th>81</th>\n",
       "      <td>Kono, Sierra Leone</td>\n",
       "      <td>Sierra Leone</td>\n",
       "      <td>Kono</td>\n",
       "      <td>Sub-Saharan Africa</td>\n",
       "      <td>0.511</td>\n",
       "    </tr>\n",
       "    <tr>\n",
       "      <th>82</th>\n",
       "      <td>Melaky, Madagascar</td>\n",
       "      <td>Madagascar</td>\n",
       "      <td>Melaky</td>\n",
       "      <td>Sub-Saharan Africa</td>\n",
       "      <td>0.509</td>\n",
       "    </tr>\n",
       "    <tr>\n",
       "      <th>83</th>\n",
       "      <td>North Eastern, Kenya</td>\n",
       "      <td>Kenya</td>\n",
       "      <td>North Eastern</td>\n",
       "      <td>Sub-Saharan Africa</td>\n",
       "      <td>0.509</td>\n",
       "    </tr>\n",
       "    <tr>\n",
       "      <th>84</th>\n",
       "      <td>N'Zðrðkorð, Guinea</td>\n",
       "      <td>Guinea</td>\n",
       "      <td>N'Zðrðkorð</td>\n",
       "      <td>Sub-Saharan Africa</td>\n",
       "      <td>0.509</td>\n",
       "    </tr>\n",
       "    <tr>\n",
       "      <th>85</th>\n",
       "      <td>Mayo Kebbi Est, Chad</td>\n",
       "      <td>Chad</td>\n",
       "      <td>Mayo Kebbi Est</td>\n",
       "      <td>Sub-Saharan Africa</td>\n",
       "      <td>0.509</td>\n",
       "    </tr>\n",
       "    <tr>\n",
       "      <th>86</th>\n",
       "      <td>Bong, Liberia</td>\n",
       "      <td>Liberia</td>\n",
       "      <td>Bong</td>\n",
       "      <td>Sub-Saharan Africa</td>\n",
       "      <td>0.508</td>\n",
       "    </tr>\n",
       "    <tr>\n",
       "      <th>87</th>\n",
       "      <td>Oecussi, Timor-Leste</td>\n",
       "      <td>Timor-Leste</td>\n",
       "      <td>Oecussi</td>\n",
       "      <td>East Asia and the Pacific</td>\n",
       "      <td>0.508</td>\n",
       "    </tr>\n",
       "    <tr>\n",
       "      <th>88</th>\n",
       "      <td>Sangha-Mbaðrð, Central African Republic</td>\n",
       "      <td>Central African Republic</td>\n",
       "      <td>Sangha-Mbaðrð</td>\n",
       "      <td>Sub-Saharan Africa</td>\n",
       "      <td>0.505</td>\n",
       "    </tr>\n",
       "    <tr>\n",
       "      <th>89</th>\n",
       "      <td>Oio, Guinea-Bissau</td>\n",
       "      <td>Guinea-Bissau</td>\n",
       "      <td>Oio</td>\n",
       "      <td>Sub-Saharan Africa</td>\n",
       "      <td>0.505</td>\n",
       "    </tr>\n",
       "    <tr>\n",
       "      <th>90</th>\n",
       "      <td>Gbarpolu, Liberia</td>\n",
       "      <td>Liberia</td>\n",
       "      <td>Gbarpolu</td>\n",
       "      <td>Sub-Saharan Africa</td>\n",
       "      <td>0.505</td>\n",
       "    </tr>\n",
       "    <tr>\n",
       "      <th>91</th>\n",
       "      <td>Logone Oriental, Chad</td>\n",
       "      <td>Chad</td>\n",
       "      <td>Logone Oriental</td>\n",
       "      <td>Sub-Saharan Africa</td>\n",
       "      <td>0.504</td>\n",
       "    </tr>\n",
       "    <tr>\n",
       "      <th>92</th>\n",
       "      <td>Kindia, Guinea</td>\n",
       "      <td>Guinea</td>\n",
       "      <td>Kindia</td>\n",
       "      <td>Sub-Saharan Africa</td>\n",
       "      <td>0.503</td>\n",
       "    </tr>\n",
       "    <tr>\n",
       "      <th>93</th>\n",
       "      <td>Upper Nile, South Sudan</td>\n",
       "      <td>South Sudan</td>\n",
       "      <td>Upper Nile</td>\n",
       "      <td>Sub-Saharan Africa</td>\n",
       "      <td>0.503</td>\n",
       "    </tr>\n",
       "    <tr>\n",
       "      <th>94</th>\n",
       "      <td>Nord, Burundi</td>\n",
       "      <td>Burundi</td>\n",
       "      <td>Nord</td>\n",
       "      <td>Sub-Saharan Africa</td>\n",
       "      <td>0.501</td>\n",
       "    </tr>\n",
       "    <tr>\n",
       "      <th>95</th>\n",
       "      <td>Central Darfor, Sudan</td>\n",
       "      <td>Sudan</td>\n",
       "      <td>Central Darfor</td>\n",
       "      <td>Arab States</td>\n",
       "      <td>0.501</td>\n",
       "    </tr>\n",
       "    <tr>\n",
       "      <th>96</th>\n",
       "      <td>Kðmo, Central African Republic</td>\n",
       "      <td>Central African Republic</td>\n",
       "      <td>Kðmo</td>\n",
       "      <td>Sub-Saharan Africa</td>\n",
       "      <td>0.501</td>\n",
       "    </tr>\n",
       "    <tr>\n",
       "      <th>97</th>\n",
       "      <td>Guidimagha, Mauritania</td>\n",
       "      <td>Mauritania</td>\n",
       "      <td>Guidimagha</td>\n",
       "      <td>Sub-Saharan Africa</td>\n",
       "      <td>0.499</td>\n",
       "    </tr>\n",
       "    <tr>\n",
       "      <th>98</th>\n",
       "      <td>Ouest, Burundi</td>\n",
       "      <td>Burundi</td>\n",
       "      <td>Ouest</td>\n",
       "      <td>Sub-Saharan Africa</td>\n",
       "      <td>0.499</td>\n",
       "    </tr>\n",
       "    <tr>\n",
       "      <th>99</th>\n",
       "      <td>Sðgou, Mali</td>\n",
       "      <td>Mali</td>\n",
       "      <td>Sðgou</td>\n",
       "      <td>Sub-Saharan Africa</td>\n",
       "      <td>0.498</td>\n",
       "    </tr>\n",
       "  </tbody>\n",
       "</table>\n",
       "<p>100 rows × 5 columns</p>\n",
       "</div>"
      ],
      "text/plain": [
       "                               LocationName                   country  \\\n",
       "0                                 Lac, Chad                      Chad   \n",
       "1                           Wadi Fira, Chad                      Chad   \n",
       "2                         Est, Burkina Faso              Burkina Faso   \n",
       "3                                Sila, Chad                      Chad   \n",
       "4                               Kanem, Chad                      Chad   \n",
       "5                       Sahel, Burkina Faso              Burkina Faso   \n",
       "6                             Ouaddað, Chad                      Chad   \n",
       "7                             Salamat, Chad                      Chad   \n",
       "8                             Maradi, Niger                     Niger   \n",
       "9                           Affar, Ethiopia                  Ethiopia   \n",
       "10                       Warap, South Sudan               South Sudan   \n",
       "11                              Batha, Chad                      Chad   \n",
       "12                  Sud-ouest, Burkina Faso              Burkina Faso   \n",
       "13                       Hadjer-Lamis, Chad                      Chad   \n",
       "14                      Barh El Gazal, Chad                      Chad   \n",
       "15     Northern Bahr el Ghazal, South Sudan               South Sudan   \n",
       "16                         Somali, Ethiopia                  Ethiopia   \n",
       "17                            Tahoua, Niger                     Niger   \n",
       "18                     Chari Baguirmi, Chad                      Chad   \n",
       "19                              GuðRa, Chad                      Chad   \n",
       "20                            Zinder, Niger                     Niger   \n",
       "21                            Yobe, Nigeria                   Nigeria   \n",
       "22                         Karamoja, Uganda                    Uganda   \n",
       "23           Jonglei and Unity, South Sudan               South Sudan   \n",
       "24                             Ennedi, Chad                      Chad   \n",
       "25                     Urozgan, Afghanistan               Afghanistan   \n",
       "26                             Dosso, Niger                     Niger   \n",
       "27                   Nooristan, Afghanistan               Afghanistan   \n",
       "28                         Tillaberi, Niger                     Niger   \n",
       "29                         Zamfara, Nigeria                   Nigeria   \n",
       "..                                      ...                       ...   \n",
       "70                     Zambðzia, Mozambique                Mozambique   \n",
       "71                     Grand Bassa, Liberia                   Liberia   \n",
       "72                 Cabo Delgado, Mozambique                Mozambique   \n",
       "73            Plateau central, Burkina Faso              Burkina Faso   \n",
       "74                            Basse, Gambia                    Gambia   \n",
       "75                  Port Loko, Sierra Leone              Sierra Leone   \n",
       "76   Nana-Mambðrð, Central African Republic  Central African Republic   \n",
       "77                         Katsina, Nigeria                   Nigeria   \n",
       "78                Nord-Ouest, Cote d'Ivoire             Cote d'Ivoire   \n",
       "79          Vatovavy Fitovinany, Madagascar                Madagascar   \n",
       "80                 Centre-sud, Burkina Faso              Burkina Faso   \n",
       "81                       Kono, Sierra Leone              Sierra Leone   \n",
       "82                       Melaky, Madagascar                Madagascar   \n",
       "83                     North Eastern, Kenya                     Kenya   \n",
       "84                       N'Zðrðkorð, Guinea                    Guinea   \n",
       "85                     Mayo Kebbi Est, Chad                      Chad   \n",
       "86                            Bong, Liberia                   Liberia   \n",
       "87                     Oecussi, Timor-Leste               Timor-Leste   \n",
       "88  Sangha-Mbaðrð, Central African Republic  Central African Republic   \n",
       "89                       Oio, Guinea-Bissau             Guinea-Bissau   \n",
       "90                        Gbarpolu, Liberia                   Liberia   \n",
       "91                    Logone Oriental, Chad                      Chad   \n",
       "92                           Kindia, Guinea                    Guinea   \n",
       "93                  Upper Nile, South Sudan               South Sudan   \n",
       "94                            Nord, Burundi                   Burundi   \n",
       "95                    Central Darfor, Sudan                     Sudan   \n",
       "96           Kðmo, Central African Republic  Central African Republic   \n",
       "97                   Guidimagha, Mauritania                Mauritania   \n",
       "98                           Ouest, Burundi                   Burundi   \n",
       "99                              Sðgou, Mali                      Mali   \n",
       "\n",
       "                     region               world_region    MPI  \n",
       "0                       Lac         Sub-Saharan Africa  0.744  \n",
       "1                 Wadi Fira         Sub-Saharan Africa  0.709  \n",
       "2                       Est         Sub-Saharan Africa  0.698  \n",
       "3                      Sila         Sub-Saharan Africa  0.697  \n",
       "4                     Kanem         Sub-Saharan Africa  0.696  \n",
       "5                     Sahel         Sub-Saharan Africa  0.690  \n",
       "6                   Ouaddað         Sub-Saharan Africa  0.683  \n",
       "7                   Salamat         Sub-Saharan Africa  0.678  \n",
       "8                    Maradi         Sub-Saharan Africa  0.664  \n",
       "9                     Affar         Sub-Saharan Africa  0.663  \n",
       "10                    Warap         Sub-Saharan Africa  0.661  \n",
       "11                    Batha         Sub-Saharan Africa  0.659  \n",
       "12                Sud-ouest         Sub-Saharan Africa  0.655  \n",
       "13             Hadjer-Lamis         Sub-Saharan Africa  0.654  \n",
       "14            Barh El Gazal         Sub-Saharan Africa  0.654  \n",
       "15  Northern Bahr el Ghazal         Sub-Saharan Africa  0.652  \n",
       "16                   Somali         Sub-Saharan Africa  0.647  \n",
       "17                   Tahoua         Sub-Saharan Africa  0.646  \n",
       "18           Chari Baguirmi         Sub-Saharan Africa  0.646  \n",
       "19                    GuðRa         Sub-Saharan Africa  0.643  \n",
       "20                   Zinder         Sub-Saharan Africa  0.641  \n",
       "21                     Yobe         Sub-Saharan Africa  0.635  \n",
       "22                 Karamoja         Sub-Saharan Africa  0.634  \n",
       "23        Jonglei and Unity         Sub-Saharan Africa  0.628  \n",
       "24                   Ennedi         Sub-Saharan Africa  0.625  \n",
       "25                  Urozgan                 South Asia  0.624  \n",
       "26                    Dosso         Sub-Saharan Africa  0.620  \n",
       "27                Nooristan                 South Asia  0.611  \n",
       "28                Tillaberi         Sub-Saharan Africa  0.609  \n",
       "29                  Zamfara         Sub-Saharan Africa  0.605  \n",
       "..                      ...                        ...    ...  \n",
       "70                 Zambðzia         Sub-Saharan Africa  0.528  \n",
       "71              Grand Bassa         Sub-Saharan Africa  0.527  \n",
       "72             Cabo Delgado         Sub-Saharan Africa  0.525  \n",
       "73          Plateau central         Sub-Saharan Africa  0.524  \n",
       "74                    Basse         Sub-Saharan Africa  0.524  \n",
       "75                Port Loko         Sub-Saharan Africa  0.522  \n",
       "76             Nana-Mambðrð         Sub-Saharan Africa  0.520  \n",
       "77                  Katsina         Sub-Saharan Africa  0.520  \n",
       "78               Nord-Ouest         Sub-Saharan Africa  0.518  \n",
       "79      Vatovavy Fitovinany         Sub-Saharan Africa  0.514  \n",
       "80               Centre-sud         Sub-Saharan Africa  0.513  \n",
       "81                     Kono         Sub-Saharan Africa  0.511  \n",
       "82                   Melaky         Sub-Saharan Africa  0.509  \n",
       "83            North Eastern         Sub-Saharan Africa  0.509  \n",
       "84               N'Zðrðkorð         Sub-Saharan Africa  0.509  \n",
       "85           Mayo Kebbi Est         Sub-Saharan Africa  0.509  \n",
       "86                     Bong         Sub-Saharan Africa  0.508  \n",
       "87                  Oecussi  East Asia and the Pacific  0.508  \n",
       "88            Sangha-Mbaðrð         Sub-Saharan Africa  0.505  \n",
       "89                      Oio         Sub-Saharan Africa  0.505  \n",
       "90                 Gbarpolu         Sub-Saharan Africa  0.505  \n",
       "91          Logone Oriental         Sub-Saharan Africa  0.504  \n",
       "92                   Kindia         Sub-Saharan Africa  0.503  \n",
       "93               Upper Nile         Sub-Saharan Africa  0.503  \n",
       "94                     Nord         Sub-Saharan Africa  0.501  \n",
       "95           Central Darfor                Arab States  0.501  \n",
       "96                     Kðmo         Sub-Saharan Africa  0.501  \n",
       "97               Guidimagha         Sub-Saharan Africa  0.499  \n",
       "98                    Ouest         Sub-Saharan Africa  0.499  \n",
       "99                    Sðgou         Sub-Saharan Africa  0.498  \n",
       "\n",
       "[100 rows x 5 columns]"
      ]
     },
     "execution_count": 46,
     "metadata": {},
     "output_type": "execute_result"
    }
   ],
   "source": [
    "#Top 10 poor countries and their region based on the MPI(Multidimensional poverty index)\n",
    "Top_10_poor_countries[:100]"
   ]
  },
  {
   "cell_type": "code",
   "execution_count": 47,
   "metadata": {},
   "outputs": [],
   "source": [
    "def find():\n",
    "    fd = Top_10_poor_countries['region']\n",
    "    find = []\n",
    "    for rn in fd:\n",
    "        find.append(rn)\n",
    "    return find"
   ]
  },
  {
   "cell_type": "code",
   "execution_count": 48,
   "metadata": {},
   "outputs": [],
   "source": [
    "fi = find()"
   ]
  },
  {
   "cell_type": "code",
   "execution_count": 52,
   "metadata": {},
   "outputs": [],
   "source": [
    "Top_reg =loans['region'].value_counts()"
   ]
  },
  {
   "cell_type": "code",
   "execution_count": 53,
   "metadata": {},
   "outputs": [
    {
     "data": {
      "text/plain": [
       "Kaduna             10000\n",
       "Lahore              7178\n",
       "Rawalpindi          4496\n",
       "Cusco               3841\n",
       "Dar es Salaam       3719\n",
       "Kisii               3546\n",
       "Palo, Leyte         3320\n",
       "Narra, Palawan      3197\n",
       "Quezon, Palawan     3120\n",
       "Kitale              3104\n",
       "Name: region, dtype: int64"
      ]
     },
     "execution_count": 53,
     "metadata": {},
     "output_type": "execute_result"
    }
   ],
   "source": [
    "Top_reg[:10]"
   ]
  },
  {
   "cell_type": "markdown",
   "metadata": {},
   "source": [
    "# Exploratory Data Analysis"
   ]
  },
  {
   "cell_type": "code",
   "execution_count": 54,
   "metadata": {},
   "outputs": [
    {
     "data": {
      "text/plain": [
       "<matplotlib.axes._subplots.AxesSubplot at 0x2b1d6b2af60>"
      ]
     },
     "execution_count": 54,
     "metadata": {},
     "output_type": "execute_result"
    },
    {
     "data": {
      "image/png": "[encoded data removed]",
      "text/plain": [
       "<Figure size 432x288 with 1 Axes>"
      ]
     },
     "metadata": {
      "needs_background": "light"
     },
     "output_type": "display_data"
    }
   ],
   "source": [
    "sns.countplot(y = 'activity', order = loans['activity'].value_counts().iloc[:20].index, data = loans)"
   ]
  },
  {
   "cell_type": "markdown",
   "metadata": {},
   "source": [
    "__Farming__ is the most Frequent activity for which the people had got loans for followed by __General store__"
   ]
  },
  {
   "cell_type": "code",
   "execution_count": 55,
   "metadata": {},
   "outputs": [
    {
     "data": {
      "text/plain": [
       "<matplotlib.axes._subplots.AxesSubplot at 0x2b1d6c1e898>"
      ]
     },
     "execution_count": 55,
     "metadata": {},
     "output_type": "execute_result"
    },
    {
     "data": {
      "image/png": "[encoded data removed]",
      "text/plain": [
       "<Figure size 432x288 with 1 Axes>"
      ]
     },
     "metadata": {
      "needs_background": "light"
     },
     "output_type": "display_data"
    }
   ],
   "source": [
    "sns.countplot(y = 'sector', order = loans['sector'].value_counts().iloc[:20].index, data = loans)"
   ]
  },
  {
   "cell_type": "markdown",
   "metadata": {},
   "source": [
    "Top 3 most Frequent __sectors__:\n",
    "    1. Agriculture\n",
    "    2. Food\n",
    "    3. Retail"
   ]
  },
  {
   "cell_type": "code",
   "execution_count": 56,
   "metadata": {},
   "outputs": [
    {
     "data": {
      "text/plain": [
       "<matplotlib.axes._subplots.AxesSubplot at 0x2b1d6c09b38>"
      ]
     },
     "execution_count": 56,
     "metadata": {},
     "output_type": "execute_result"
    },
    {
     "data": {
      "image/png": "[encoded data removed]",
      "text/plain": [
       "<Figure size 432x288 with 1 Axes>"
      ]
     },
     "metadata": {
      "needs_background": "light"
     },
     "output_type": "display_data"
    }
   ],
   "source": [
    "sns.countplot(y = 'country', order = loans['country'].value_counts().iloc[:20].index, data = loans)"
   ]
  },
  {
   "cell_type": "markdown",
   "metadata": {},
   "source": [
    "Top 3 __Countries__ which got more loans:\n",
    "    1. Philippines\n",
    "    2. kenya\n",
    "    3. El Salvador"
   ]
  },
  {
   "cell_type": "code",
   "execution_count": 57,
   "metadata": {},
   "outputs": [
    {
     "data": {
      "text/plain": [
       "<matplotlib.axes._subplots.AxesSubplot at 0x2b1d7692e48>"
      ]
     },
     "execution_count": 57,
     "metadata": {},
     "output_type": "execute_result"
    },
    {
     "data": {
      "image/png": "[encoded data removed]",
      "text/plain": [
       "<Figure size 432x288 with 1 Axes>"
      ]
     },
     "metadata": {
      "needs_background": "light"
     },
     "output_type": "display_data"
    }
   ],
   "source": [
    "sns.countplot(y = 'region', order = loans['region'].value_counts().iloc[:20].index, data = loans)"
   ]
  },
  {
   "cell_type": "markdown",
   "metadata": {},
   "source": [
    "Top 3 __Regions__ which got more loans:\n",
    "\n",
    "1. Kaduna(Nigeria)\n",
    "2. Lahore(pakistan)\n",
    "3. Rawalpindi(pakistan)"
   ]
  },
  {
   "cell_type": "code",
   "execution_count": 58,
   "metadata": {},
   "outputs": [
    {
     "data": {
      "text/plain": [
       "<matplotlib.axes._subplots.AxesSubplot at 0x2b1d76cabe0>"
      ]
     },
     "execution_count": 58,
     "metadata": {},
     "output_type": "execute_result"
    },
    {
     "data": {
      "image/png": "[encoded data removed]",
      "text/plain": [
       "<Figure size 432x288 with 1 Axes>"
      ]
     },
     "metadata": {
      "needs_background": "light"
     },
     "output_type": "display_data"
    }
   ],
   "source": [
    "sns.countplot(y = 'repayment_interval', data = loans)"
   ]
  },
  {
   "cell_type": "markdown",
   "metadata": {},
   "source": [
    "In the repayment Interval section __monthly__ payment is most frequent followed by __irregular__"
   ]
  },
  {
   "cell_type": "code",
   "execution_count": 59,
   "metadata": {},
   "outputs": [
    {
     "data": {
      "text/plain": [
       "<matplotlib.axes._subplots.AxesSubplot at 0x2b1d76bb518>"
      ]
     },
     "execution_count": 59,
     "metadata": {},
     "output_type": "execute_result"
    },
    {
     "data": {
      "image/png": "[encoded data removed]",
      "text/plain": [
       "<Figure size 720x360 with 1 Axes>"
      ]
     },
     "metadata": {
      "needs_background": "light"
     },
     "output_type": "display_data"
    }
   ],
   "source": [
    "plt.figure(figsize=(10,5))\n",
    "sns.countplot(x = 'lender_count',order = loans['lender_count'].value_counts().iloc[:30].index, data = loans)"
   ]
  },
  {
   "cell_type": "markdown",
   "metadata": {},
   "source": [
    "Most number of people who lends is __Eight__ followed by __Seven__ and __Nine__"
   ]
  },
  {
   "cell_type": "code",
   "execution_count": 131,
   "metadata": {},
   "outputs": [
    {
     "data": {
      "text/plain": [
       "<matplotlib.axes._subplots.AxesSubplot at 0x2b2addc6be0>"
      ]
     },
     "execution_count": 131,
     "metadata": {},
     "output_type": "execute_result"
    },
    {
     "data": {
      "image/png": "[encoded data removed]",
      "text/plain": [
       "<Figure size 432x288 with 2 Axes>"
      ]
     },
     "metadata": {
      "needs_background": "light"
     },
     "output_type": "display_data"
    }
   ],
   "source": [
    "fig, (axis1,axis2) = plt.subplots(1,2,sharey = True)\n",
    "\n",
    "sns.distplot(loans['funded_amount'],ax = axis1)\n",
    "sns.distplot(loans['loan_amount'],ax = axis2)"
   ]
  },
  {
   "cell_type": "code",
   "execution_count": 62,
   "metadata": {},
   "outputs": [
    {
     "data": {
      "text/plain": [
       "<matplotlib.axes._subplots.AxesSubplot at 0x2b1d79e3cc0>"
      ]
     },
     "execution_count": 62,
     "metadata": {},
     "output_type": "execute_result"
    },
    {
     "data": {
      "image/png": "[encoded data removed]",
      "text/plain": [
       "<Figure size 720x360 with 1 Axes>"
      ]
     },
     "metadata": {
      "needs_background": "light"
     },
     "output_type": "display_data"
    }
   ],
   "source": [
    "plt.figure(figsize=(10,5))\n",
    "sns.countplot(x = 'term_in_months',order = loans['term_in_months'].value_counts().iloc[:20].index, data = loans)"
   ]
  },
  {
   "cell_type": "markdown",
   "metadata": {},
   "source": [
    "The highest Duration for which the loan was disbursed in months is __14__ followed by __8__"
   ]
  },
  {
   "cell_type": "code",
   "execution_count": 63,
   "metadata": {},
   "outputs": [
    {
     "data": {
      "text/plain": [
       "<matplotlib.axes._subplots.AxesSubplot at 0x2b1d7a6e7b8>"
      ]
     },
     "execution_count": 63,
     "metadata": {},
     "output_type": "execute_result"
    },
    {
     "data": {
      "image/png": "[encoded data removed]",
      "text/plain": [
       "<Figure size 720x504 with 1 Axes>"
      ]
     },
     "metadata": {
      "needs_background": "light"
     },
     "output_type": "display_data"
    }
   ],
   "source": [
    "plt.figure(figsize=(10,7))\n",
    "sns.countplot(y = 'use',order = loans['use'].value_counts().iloc[:10].index, data = loans)"
   ]
  },
  {
   "cell_type": "markdown",
   "metadata": {},
   "source": [
    "The most popular use of loans is __to buy a water filter to provide safe drinking water for their family__"
   ]
  },
  {
   "cell_type": "code",
   "execution_count": 64,
   "metadata": {},
   "outputs": [
    {
     "data": {
      "text/plain": [
       "<matplotlib.axes._subplots.AxesSubplot at 0x2b1d7b0ea20>"
      ]
     },
     "execution_count": 64,
     "metadata": {},
     "output_type": "execute_result"
    },
    {
     "data": {
      "image/png": "[encoded data removed]",
      "text/plain": [
       "<Figure size 432x288 with 1 Axes>"
      ]
     },
     "metadata": {
      "needs_background": "light"
     },
     "output_type": "display_data"
    }
   ],
   "source": [
    "#Distribution of individual male and female borrowers\n",
    "#Sex borrowers vs repayment interval\n",
    "sns.countplot(x = 'borrower_genders',order = loans['borrower_genders'].value_counts().iloc[:2].index,hue = 'repayment_interval', data = loans)"
   ]
  },
  {
   "cell_type": "markdown",
   "metadata": {},
   "source": [
    "__Borrower Genders__ vs __Repayment Interval__:\n",
    "    1. Female(irregular > monthly)\n",
    "    2. Male(monthly > bullet)"
   ]
  },
  {
   "cell_type": "code",
   "execution_count": 65,
   "metadata": {},
   "outputs": [
    {
     "data": {
      "text/plain": [
       "(array([0, 1, 2, 3, 4, 5, 6, 7, 8, 9]), <a list of 10 Text xticklabel objects>)"
      ]
     },
     "execution_count": 65,
     "metadata": {},
     "output_type": "execute_result"
    },
    {
     "data": {
      "image/png": "[encoded data removed]",
      "text/plain": [
       "<Figure size 432x288 with 1 Axes>"
      ]
     },
     "metadata": {
      "needs_background": "light"
     },
     "output_type": "display_data"
    }
   ],
   "source": [
    "#country vs repayment interval\n",
    "sns.countplot(x = 'country',order = loans['country'].value_counts().iloc[:10].index,hue = 'repayment_interval', data = loans)\n",
    "plt.xticks(rotation = 90)"
   ]
  },
  {
   "cell_type": "markdown",
   "metadata": {},
   "source": [
    "__Country__ vs __Repayment Interval__:\n",
    "    \n",
    "    1.Philippines(mostly irregular)\n",
    "    2.kenya(mostly monthly)\n"
   ]
  },
  {
   "cell_type": "code",
   "execution_count": 66,
   "metadata": {
    "scrolled": true
   },
   "outputs": [
    {
     "data": {
      "text/plain": [
       "<matplotlib.axes._subplots.AxesSubplot at 0x2b27e3b5048>"
      ]
     },
     "execution_count": 66,
     "metadata": {},
     "output_type": "execute_result"
    },
    {
     "data": {
      "image/png": "[encoded data removed]",
      "text/plain": [
       "<Figure size 432x288 with 1 Axes>"
      ]
     },
     "metadata": {
      "needs_background": "light"
     },
     "output_type": "display_data"
    }
   ],
   "source": [
    "# Funding partners\n",
    "sns.countplot(y = 'Field Partner Name', order = theme_reg['Field Partner Name'].value_counts().iloc[:15].index, data = theme_reg)"
   ]
  },
  {
   "cell_type": "markdown",
   "metadata": {},
   "source": [
    "Most dominant field partner around the word is __Alalay sa Kaunlaran (ASKI)__ followed by __SEF International.__"
   ]
  },
  {
   "cell_type": "code",
   "execution_count": 67,
   "metadata": {},
   "outputs": [
    {
     "data": {
      "text/plain": [
       "<matplotlib.axes._subplots.AxesSubplot at 0x2b27e45e080>"
      ]
     },
     "execution_count": 67,
     "metadata": {},
     "output_type": "execute_result"
    },
    {
     "data": {
      "image/png": "[encoded data removed]",
      "text/plain": [
       "<Figure size 432x288 with 1 Axes>"
      ]
     },
     "metadata": {
      "needs_background": "light"
     },
     "output_type": "display_data"
    }
   ],
   "source": [
    "#Loan theme type\n",
    "sns.countplot(y = 'Loan Theme Type', order = theme_reg['Loan Theme Type'].value_counts().iloc[:15].index, data = theme_reg)"
   ]
  },
  {
   "cell_type": "markdown",
   "metadata": {},
   "source": [
    "__Popular Loan Theme type__:\n",
    "    \n",
    "    1. General\n",
    "    2. Agriculture\n",
    "    3. Underserved"
   ]
  },
  {
   "cell_type": "code",
   "execution_count": 68,
   "metadata": {},
   "outputs": [
    {
     "data": {
      "text/plain": [
       "<matplotlib.axes._subplots.AxesSubplot at 0x2b27e741198>"
      ]
     },
     "execution_count": 68,
     "metadata": {},
     "output_type": "execute_result"
    },
    {
     "data": {
      "image/png": "[encoded data removed]",
      "text/plain": [
       "<Figure size 432x288 with 1 Axes>"
      ]
     },
     "metadata": {
      "needs_background": "light"
     },
     "output_type": "display_data"
    }
   ],
   "source": [
    "#world region\n",
    "# sub-saharan africa top the list followed by the latin america and carribbean\n",
    "sns.countplot(y = 'world_region', order = k_mpi_reg_loc['world_region'].value_counts().index, data = k_mpi_reg_loc)"
   ]
  },
  {
   "cell_type": "markdown",
   "metadata": {},
   "source": [
    "__Top World Regions:__\n",
    "    \n",
    "    1. Sub-Saharan africa\n",
    "    2. Latin american and caribbean\n",
    "    3. East asia and the pacific\n",
    "    "
   ]
  },
  {
   "cell_type": "code",
   "execution_count": 69,
   "metadata": {
    "scrolled": true
   },
   "outputs": [],
   "source": [
    "#wn = loans['country'] == 'India' & loans['repayment_interval'] == 'monthly'\n",
    "#one = loans['country'] == 'India'# and \n",
    "#two = loans['repayment_interval'] == 'monthly'\n",
    "#three = one & two"
   ]
  },
  {
   "cell_type": "code",
   "execution_count": 148,
   "metadata": {},
   "outputs": [
    {
     "data": {
      "text/html": [
       "<div>\n",
       "<style scoped>\n",
       "    .dataframe tbody tr th:only-of-type {\n",
       "        vertical-align: middle;\n",
       "    }\n",
       "\n",
       "    .dataframe tbody tr th {\n",
       "        vertical-align: top;\n",
       "    }\n",
       "\n",
       "    .dataframe thead th {\n",
       "        text-align: right;\n",
       "    }\n",
       "</style>\n",
       "<table border=\"1\" class=\"dataframe\">\n",
       "  <thead>\n",
       "    <tr style=\"text-align: right;\">\n",
       "      <th></th>\n",
       "      <th>LocationName</th>\n",
       "      <th>ISO</th>\n",
       "      <th>country</th>\n",
       "      <th>region</th>\n",
       "      <th>world_region</th>\n",
       "      <th>MPI</th>\n",
       "      <th>geo</th>\n",
       "      <th>lat</th>\n",
       "      <th>lon</th>\n",
       "    </tr>\n",
       "  </thead>\n",
       "  <tbody>\n",
       "    <tr>\n",
       "      <th>0</th>\n",
       "      <td>Lac, Chad</td>\n",
       "      <td>TCD</td>\n",
       "      <td>Chad</td>\n",
       "      <td>Lac</td>\n",
       "      <td>Sub-Saharan Africa</td>\n",
       "      <td>0.744</td>\n",
       "      <td>(18.3281428, -77.2405153)</td>\n",
       "      <td>18.328143</td>\n",
       "      <td>-77.240515</td>\n",
       "    </tr>\n",
       "    <tr>\n",
       "      <th>1</th>\n",
       "      <td>Wadi Fira, Chad</td>\n",
       "      <td>TCD</td>\n",
       "      <td>Chad</td>\n",
       "      <td>Wadi Fira</td>\n",
       "      <td>Sub-Saharan Africa</td>\n",
       "      <td>0.709</td>\n",
       "      <td>(15.0892416, 21.4752851)</td>\n",
       "      <td>15.089242</td>\n",
       "      <td>21.475285</td>\n",
       "    </tr>\n",
       "    <tr>\n",
       "      <th>2</th>\n",
       "      <td>Est, Burkina Faso</td>\n",
       "      <td>BFA</td>\n",
       "      <td>Burkina Faso</td>\n",
       "      <td>Est</td>\n",
       "      <td>Sub-Saharan Africa</td>\n",
       "      <td>0.698</td>\n",
       "      <td>(12.4365526, 0.9056623)</td>\n",
       "      <td>12.436553</td>\n",
       "      <td>0.905662</td>\n",
       "    </tr>\n",
       "  </tbody>\n",
       "</table>\n",
       "</div>"
      ],
      "text/plain": [
       "        LocationName  ISO       country     region        world_region    MPI  \\\n",
       "0          Lac, Chad  TCD          Chad        Lac  Sub-Saharan Africa  0.744   \n",
       "1    Wadi Fira, Chad  TCD          Chad  Wadi Fira  Sub-Saharan Africa  0.709   \n",
       "2  Est, Burkina Faso  BFA  Burkina Faso        Est  Sub-Saharan Africa  0.698   \n",
       "\n",
       "                         geo        lat        lon  \n",
       "0  (18.3281428, -77.2405153)  18.328143 -77.240515  \n",
       "1   (15.0892416, 21.4752851)  15.089242  21.475285  \n",
       "2    (12.4365526, 0.9056623)  12.436553   0.905662  "
      ]
     },
     "execution_count": 148,
     "metadata": {},
     "output_type": "execute_result"
    }
   ],
   "source": [
    "sorted_k_mpi_reg.head(3)"
   ]
  },
  {
   "cell_type": "code",
   "execution_count": 71,
   "metadata": {},
   "outputs": [
    {
     "data": {
      "text/plain": [
       "<matplotlib.axes._subplots.AxesSubplot at 0x2b1c985e710>"
      ]
     },
     "execution_count": 71,
     "metadata": {},
     "output_type": "execute_result"
    },
    {
     "data": {
      "image/png": "[encoded data removed]",
      "text/plain": [
       "<Figure size 432x288 with 1 Axes>"
      ]
     },
     "metadata": {
      "needs_background": "light"
     },
     "output_type": "display_data"
    }
   ],
   "source": [
    "sns.countplot(y = 'region', order = sorted_k_mpi_reg['region'].value_counts().iloc[:10].index, data = sorted_k_mpi_reg)"
   ]
  },
  {
   "cell_type": "code",
   "execution_count": 149,
   "metadata": {
    "scrolled": true
   },
   "outputs": [],
   "source": [
    "contry_rp_count = pd.crosstab(loans[0:10001].country, loans[:10001].repayment_interval, margins = True, margins_name = \"Aggregate\")"
   ]
  },
  {
   "cell_type": "code",
   "execution_count": 152,
   "metadata": {},
   "outputs": [
    {
     "data": {
      "text/html": [
       "<div>\n",
       "<style scoped>\n",
       "    .dataframe tbody tr th:only-of-type {\n",
       "        vertical-align: middle;\n",
       "    }\n",
       "\n",
       "    .dataframe tbody tr th {\n",
       "        vertical-align: top;\n",
       "    }\n",
       "\n",
       "    .dataframe thead th {\n",
       "        text-align: right;\n",
       "    }\n",
       "</style>\n",
       "<table border=\"1\" class=\"dataframe\">\n",
       "  <thead>\n",
       "    <tr style=\"text-align: right;\">\n",
       "      <th>repayment_interval</th>\n",
       "      <th>bullet</th>\n",
       "      <th>irregular</th>\n",
       "      <th>monthly</th>\n",
       "      <th>weekly</th>\n",
       "      <th>Aggregate</th>\n",
       "    </tr>\n",
       "    <tr>\n",
       "      <th>country</th>\n",
       "      <th></th>\n",
       "      <th></th>\n",
       "      <th></th>\n",
       "      <th></th>\n",
       "      <th></th>\n",
       "    </tr>\n",
       "  </thead>\n",
       "  <tbody>\n",
       "    <tr>\n",
       "      <th>Albania</th>\n",
       "      <td>1</td>\n",
       "      <td>0</td>\n",
       "      <td>46</td>\n",
       "      <td>0</td>\n",
       "      <td>47</td>\n",
       "    </tr>\n",
       "    <tr>\n",
       "      <th>Armenia</th>\n",
       "      <td>0</td>\n",
       "      <td>0</td>\n",
       "      <td>109</td>\n",
       "      <td>0</td>\n",
       "      <td>109</td>\n",
       "    </tr>\n",
       "    <tr>\n",
       "      <th>Azerbaijan</th>\n",
       "      <td>0</td>\n",
       "      <td>0</td>\n",
       "      <td>45</td>\n",
       "      <td>0</td>\n",
       "      <td>45</td>\n",
       "    </tr>\n",
       "  </tbody>\n",
       "</table>\n",
       "</div>"
      ],
      "text/plain": [
       "repayment_interval  bullet  irregular  monthly  weekly  Aggregate\n",
       "country                                                          \n",
       "Albania                  1          0       46       0         47\n",
       "Armenia                  0          0      109       0        109\n",
       "Azerbaijan               0          0       45       0         45"
      ]
     },
     "execution_count": 152,
     "metadata": {},
     "output_type": "execute_result"
    }
   ],
   "source": [
    "contry_rp_count.head(3)"
   ]
  },
  {
   "cell_type": "code",
   "execution_count": 150,
   "metadata": {
    "scrolled": true
   },
   "outputs": [],
   "source": [
    "region_rp_count = pd.crosstab(loans.region, loans.repayment_interval, margins = True, margins_name = \"Aggregate\")"
   ]
  },
  {
   "cell_type": "code",
   "execution_count": 154,
   "metadata": {},
   "outputs": [
    {
     "data": {
      "text/html": [
       "<div>\n",
       "<style scoped>\n",
       "    .dataframe tbody tr th:only-of-type {\n",
       "        vertical-align: middle;\n",
       "    }\n",
       "\n",
       "    .dataframe tbody tr th {\n",
       "        vertical-align: top;\n",
       "    }\n",
       "\n",
       "    .dataframe thead th {\n",
       "        text-align: right;\n",
       "    }\n",
       "</style>\n",
       "<table border=\"1\" class=\"dataframe\">\n",
       "  <thead>\n",
       "    <tr style=\"text-align: right;\">\n",
       "      <th>repayment_interval</th>\n",
       "      <th>bullet</th>\n",
       "      <th>irregular</th>\n",
       "      <th>monthly</th>\n",
       "      <th>Aggregate</th>\n",
       "    </tr>\n",
       "    <tr>\n",
       "      <th>region</th>\n",
       "      <th></th>\n",
       "      <th></th>\n",
       "      <th></th>\n",
       "      <th></th>\n",
       "    </tr>\n",
       "  </thead>\n",
       "  <tbody>\n",
       "    <tr>\n",
       "      <th>\"The first May\" village</th>\n",
       "      <td>0</td>\n",
       "      <td>0</td>\n",
       "      <td>12</td>\n",
       "      <td>12</td>\n",
       "    </tr>\n",
       "    <tr>\n",
       "      <th>01 Công Chính</th>\n",
       "      <td>0</td>\n",
       "      <td>0</td>\n",
       "      <td>17</td>\n",
       "      <td>17</td>\n",
       "    </tr>\n",
       "    <tr>\n",
       "      <th>01 Công Liêm</th>\n",
       "      <td>0</td>\n",
       "      <td>0</td>\n",
       "      <td>31</td>\n",
       "      <td>31</td>\n",
       "    </tr>\n",
       "  </tbody>\n",
       "</table>\n",
       "</div>"
      ],
      "text/plain": [
       "repayment_interval       bullet  irregular  monthly  Aggregate\n",
       "region                                                        \n",
       "\"The first May\" village       0          0       12         12\n",
       "01 Công Chính                 0          0       17         17\n",
       "01 Công Liêm                  0          0       31         31"
      ]
     },
     "execution_count": 154,
     "metadata": {},
     "output_type": "execute_result"
    }
   ],
   "source": [
    "region_rp_count.head(3)"
   ]
  },
  {
   "cell_type": "markdown",
   "metadata": {},
   "source": [
    "# Philippines"
   ]
  },
  {
   "cell_type": "code",
   "execution_count": null,
   "metadata": {},
   "outputs": [],
   "source": []
  },
  {
   "cell_type": "code",
   "execution_count": 74,
   "metadata": {},
   "outputs": [],
   "source": [
    "phil = loans[loans['country'] == 'Philippines']\n",
    "phil.index = range(0, len(phil))"
   ]
  },
  {
   "cell_type": "code",
   "execution_count": 155,
   "metadata": {},
   "outputs": [
    {
     "data": {
      "text/html": [
       "<div>\n",
       "<style scoped>\n",
       "    .dataframe tbody tr th:only-of-type {\n",
       "        vertical-align: middle;\n",
       "    }\n",
       "\n",
       "    .dataframe tbody tr th {\n",
       "        vertical-align: top;\n",
       "    }\n",
       "\n",
       "    .dataframe thead th {\n",
       "        text-align: right;\n",
       "    }\n",
       "</style>\n",
       "<table border=\"1\" class=\"dataframe\">\n",
       "  <thead>\n",
       "    <tr style=\"text-align: right;\">\n",
       "      <th></th>\n",
       "      <th>id</th>\n",
       "      <th>funded_amount</th>\n",
       "      <th>loan_amount</th>\n",
       "      <th>activity</th>\n",
       "      <th>sector</th>\n",
       "      <th>use</th>\n",
       "      <th>country_code</th>\n",
       "      <th>country</th>\n",
       "      <th>region</th>\n",
       "      <th>currency</th>\n",
       "      <th>partner_id</th>\n",
       "      <th>posted_time</th>\n",
       "      <th>disbursed_time</th>\n",
       "      <th>funded_time</th>\n",
       "      <th>term_in_months</th>\n",
       "      <th>lender_count</th>\n",
       "      <th>tags</th>\n",
       "      <th>borrower_genders</th>\n",
       "      <th>repayment_interval</th>\n",
       "      <th>date</th>\n",
       "    </tr>\n",
       "  </thead>\n",
       "  <tbody>\n",
       "    <tr>\n",
       "      <th>0</th>\n",
       "      <td>653092</td>\n",
       "      <td>175.0</td>\n",
       "      <td>175.0</td>\n",
       "      <td>Pigs</td>\n",
       "      <td>Agriculture</td>\n",
       "      <td>to buy piglets and feed</td>\n",
       "      <td>PH</td>\n",
       "      <td>Philippines</td>\n",
       "      <td>Liloy-Dela Paz</td>\n",
       "      <td>PHP</td>\n",
       "      <td>126.0</td>\n",
       "      <td>2014-01-02 00:25:40+00:00</td>\n",
       "      <td>2013-12-12 08:00:00+00:00</td>\n",
       "      <td>2014-01-02 01:42:51+00:00</td>\n",
       "      <td>8.0</td>\n",
       "      <td>6</td>\n",
       "      <td>NaN</td>\n",
       "      <td>female</td>\n",
       "      <td>irregular</td>\n",
       "      <td>2014-01-02</td>\n",
       "    </tr>\n",
       "    <tr>\n",
       "      <th>1</th>\n",
       "      <td>653149</td>\n",
       "      <td>175.0</td>\n",
       "      <td>175.0</td>\n",
       "      <td>Pigs</td>\n",
       "      <td>Agriculture</td>\n",
       "      <td>to purchase feed and vitamins for her pigs</td>\n",
       "      <td>PH</td>\n",
       "      <td>Philippines</td>\n",
       "      <td>Tanjay, Negros Oriental</td>\n",
       "      <td>PHP</td>\n",
       "      <td>145.0</td>\n",
       "      <td>2014-01-02 04:18:30+00:00</td>\n",
       "      <td>2013-12-06 08:00:00+00:00</td>\n",
       "      <td>2014-01-02 07:47:28+00:00</td>\n",
       "      <td>8.0</td>\n",
       "      <td>7</td>\n",
       "      <td>NaN</td>\n",
       "      <td>female</td>\n",
       "      <td>irregular</td>\n",
       "      <td>2014-01-02</td>\n",
       "    </tr>\n",
       "    <tr>\n",
       "      <th>2</th>\n",
       "      <td>653123</td>\n",
       "      <td>700.0</td>\n",
       "      <td>700.0</td>\n",
       "      <td>General Store</td>\n",
       "      <td>Retail</td>\n",
       "      <td>to buy additional items like eggs, charcoal, r...</td>\n",
       "      <td>PH</td>\n",
       "      <td>Philippines</td>\n",
       "      <td>Brookes Point, Palawan</td>\n",
       "      <td>PHP</td>\n",
       "      <td>145.0</td>\n",
       "      <td>2014-01-02 02:18:02+00:00</td>\n",
       "      <td>2013-12-10 08:00:00+00:00</td>\n",
       "      <td>2014-01-02 03:26:10+00:00</td>\n",
       "      <td>5.0</td>\n",
       "      <td>2</td>\n",
       "      <td>NaN</td>\n",
       "      <td>female</td>\n",
       "      <td>irregular</td>\n",
       "      <td>2014-01-02</td>\n",
       "    </tr>\n",
       "  </tbody>\n",
       "</table>\n",
       "</div>"
      ],
      "text/plain": [
       "       id  funded_amount  loan_amount       activity       sector  \\\n",
       "0  653092          175.0        175.0           Pigs  Agriculture   \n",
       "1  653149          175.0        175.0           Pigs  Agriculture   \n",
       "2  653123          700.0        700.0  General Store       Retail   \n",
       "\n",
       "                                                 use country_code  \\\n",
       "0                            to buy piglets and feed           PH   \n",
       "1         to purchase feed and vitamins for her pigs           PH   \n",
       "2  to buy additional items like eggs, charcoal, r...           PH   \n",
       "\n",
       "       country                   region currency  partner_id  \\\n",
       "0  Philippines           Liloy-Dela Paz      PHP       126.0   \n",
       "1  Philippines  Tanjay, Negros Oriental      PHP       145.0   \n",
       "2  Philippines   Brookes Point, Palawan      PHP       145.0   \n",
       "\n",
       "                 posted_time             disbursed_time  \\\n",
       "0  2014-01-02 00:25:40+00:00  2013-12-12 08:00:00+00:00   \n",
       "1  2014-01-02 04:18:30+00:00  2013-12-06 08:00:00+00:00   \n",
       "2  2014-01-02 02:18:02+00:00  2013-12-10 08:00:00+00:00   \n",
       "\n",
       "                 funded_time  term_in_months  lender_count tags  \\\n",
       "0  2014-01-02 01:42:51+00:00             8.0             6  NaN   \n",
       "1  2014-01-02 07:47:28+00:00             8.0             7  NaN   \n",
       "2  2014-01-02 03:26:10+00:00             5.0             2  NaN   \n",
       "\n",
       "  borrower_genders repayment_interval        date  \n",
       "0           female          irregular  2014-01-02  \n",
       "1           female          irregular  2014-01-02  \n",
       "2           female          irregular  2014-01-02  "
      ]
     },
     "execution_count": 155,
     "metadata": {},
     "output_type": "execute_result"
    }
   ],
   "source": [
    "phil.head(3)"
   ]
  },
  {
   "cell_type": "code",
   "execution_count": 76,
   "metadata": {
    "scrolled": true
   },
   "outputs": [
    {
     "data": {
      "text/plain": [
       "Palo, Leyte                                           3320\n",
       "Narra, Palawan                                        3197\n",
       "Quezon, Palawan                                       3120\n",
       "Tacloban City, Leyte                                  2843\n",
       "Brookes Point, Palawan                                2793\n",
       "Kabankalan, Negros Occidental                         2792\n",
       "Bais, Negros Oriental                                 2665\n",
       "Cordova, Cebu                                         2617\n",
       "Roxas City, Capiz                                     2580\n",
       "Banga, Aklan                                          2526\n",
       "Dumaguete, Negros Oriental                            2467\n",
       "Hinigaran, Negros Occidental                          2407\n",
       "Isabela, Negros Occidental                            2371\n",
       "Calbayog City, Samar                                  2197\n",
       "Tanjay, Negros Oriental                               2092\n",
       "Himamaylan, Negros Occidental                         2052\n",
       "Calatrava, Negros Occidental                          2002\n",
       "Minglanilla, Cebu                                     1916\n",
       "Sogod Leyte                                           1913\n",
       "Kalibo, Aklan                                         1879\n",
       "Numancia, Aklan                                       1854\n",
       "Bogo, Cebu                                            1853\n",
       "Binalbagan, Negros Occidental                         1811\n",
       "Bindoy, Negros Oriental                               1655\n",
       "Concepcion, Iloilo                                    1651\n",
       "Pan-ay, Capiz                                         1640\n",
       "Sibulan, Negros Oriental                              1598\n",
       "Liloan, Cebu                                          1584\n",
       "Hinobaan, Negros Occidental                           1584\n",
       "Maasin City, Leyte                                    1518\n",
       "                                                      ... \n",
       "214 Bonifacio St. Calaocan, Alicia, Isabela              1\n",
       "Larena-North Poblacion, Larena, Siquijor                 1\n",
       "Happy Valley  Tambulig Zamboanga Del Sur                 1\n",
       "Larena-Tacloban, Siquijor, Siquijor                      1\n",
       "Dipolog-Gov.Village, Estaka, Dipolog City                1\n",
       "prk.kawayan turno,dipolog city                           1\n",
       "Purok Chrismus Sicayab, Dipolog City, ZDN                1\n",
       "Tangub-San Apolianrio,Tangub City, Misamis Occiden       1\n",
       "Lumbia, Pagadian City                                    1\n",
       "Lower Campo, Islam, Labangan,ZDS                         1\n",
       "Ozamiz - Baybay Tinagsa, Kolambugan, Lanao Del Nor       1\n",
       "NORTHERN POB. BALIANGAO, MISAMIS OCCIDENTAL              1\n",
       "Dipolog-Villaramos,Manukan, Z.N                          1\n",
       "San Juan, Ilagan, Isabela                                1\n",
       "Masaya Centro San Agustin, Isabela                       1\n",
       "Dilawa, Piñan, ZDN                                       1\n",
       "Mabini St. District 3, Cauayan City, Isabela             1\n",
       "Centro, San Antonio, Ilagan City                         1\n",
       "venus,sergio osmeña,zambo.del norte                      1\n",
       "Palayan,Aloran,Mis. Occ.                                 1\n",
       "p-1 tugaya,aloran                                        1\n",
       "Quezon St. District 1, Cauayan City, Isabela             1\n",
       "p-2 villaflor,oroquieta city                             1\n",
       "Sitio Kamias, Rizal                                      1\n",
       "Cabanatuan City                                          1\n",
       "Liloy-San Isidro, Liloy, Zamboanga del Norte             1\n",
       "Larena-Tignao, Lazi, Siquijor                            1\n",
       "Pisa-an, Bonifacio, Mis. Occ.                            1\n",
       "Tudela-Camanse,Sinacaban                                 1\n",
       "p4, villaflor, oro. city                                 1\n",
       "Name: region, Length: 3638, dtype: int64"
      ]
     },
     "execution_count": 76,
     "metadata": {},
     "output_type": "execute_result"
    }
   ],
   "source": [
    "phil['region'].value_counts()"
   ]
  },
  {
   "cell_type": "code",
   "execution_count": 159,
   "metadata": {},
   "outputs": [
    {
     "name": "stdout",
     "output_type": "stream",
     "text": [
      "Minimum_amt: 25.0\n",
      "Maximum_amt: 25000.0\n",
      "Mean_amt: 344.93817041778595\n",
      "standard_dev: 234.91784167592786\n"
     ]
    }
   ],
   "source": [
    "#Amount in PHP\n",
    "\n",
    "print('Minimum_amt:',phil['loan_amount'].min())\n",
    "print('Maximum_amt:',phil['loan_amount'].max())\n",
    "print('Mean_amt:',phil['loan_amount'].mean())\n",
    "print('standard_dev:',phil['loan_amount'].std())\n"
   ]
  },
  {
   "cell_type": "code",
   "execution_count": 78,
   "metadata": {},
   "outputs": [],
   "source": [
    "def regions_fund():\n",
    "    r = phil['region'].value_counts().index\n",
    "    reg_fund = {}\n",
    "    for reg in r:\n",
    "        cal4 = phil[phil['region'] == reg]['funded_amount'].sum()\n",
    "        reg_fund[reg] = cal4\n",
    "    return reg_fund"
   ]
  },
  {
   "cell_type": "code",
   "execution_count": 79,
   "metadata": {},
   "outputs": [],
   "source": [
    "regs =regions_fund()"
   ]
  },
  {
   "cell_type": "code",
   "execution_count": 80,
   "metadata": {},
   "outputs": [],
   "source": [
    "items5 = [(v,k) for k, v in regs.items()]\n",
    "items5.sort()"
   ]
  },
  {
   "cell_type": "code",
   "execution_count": 81,
   "metadata": {},
   "outputs": [],
   "source": [
    "#Top 10 regioms in philippines on funded amount(mean)\n",
    "reg10 = items5[::-1][:10]\n"
   ]
  },
  {
   "cell_type": "code",
   "execution_count": 82,
   "metadata": {},
   "outputs": [
    {
     "data": {
      "text/plain": [
       "[(1234625.0, 'Narra, Palawan'),\n",
       " (1210875.0, 'Quezon, Palawan'),\n",
       " (1180100.0, 'Brookes Point, Palawan'),\n",
       " (1040700.0, 'Kabankalan, Negros Occidental'),\n",
       " (956950.0, 'Hinigaran, Negros Occidental'),\n",
       " (902675.0, 'Cordova, Cebu'),\n",
       " (886500.0, 'Isabela, Negros Occidental'),\n",
       " (829800.0, 'Bais, Negros Oriental'),\n",
       " (807850.0, 'Dumaguete, Negros Oriental'),\n",
       " (750525.0, 'Roxas City, Capiz')]"
      ]
     },
     "execution_count": 82,
     "metadata": {},
     "output_type": "execute_result"
    }
   ],
   "source": [
    "reg10"
   ]
  },
  {
   "cell_type": "code",
   "execution_count": 130,
   "metadata": {},
   "outputs": [
    {
     "data": {
      "text/plain": [
       "<matplotlib.axes._subplots.AxesSubplot at 0x2b2adfc7080>"
      ]
     },
     "execution_count": 130,
     "metadata": {},
     "output_type": "execute_result"
    },
    {
     "data": {
      "image/png": "[encoded data removed]",
      "text/plain": [
       "<Figure size 432x288 with 2 Axes>"
      ]
     },
     "metadata": {
      "needs_background": "light"
     },
     "output_type": "display_data"
    }
   ],
   "source": [
    "fig, (axis1,axis2) = plt.subplots(1,2,sharey = True)\n",
    "\n",
    "sns.distplot(phil['funded_amount'],ax = axis1)\n",
    "sns.distplot(phil['loan_amount'],ax = axis2)"
   ]
  },
  {
   "cell_type": "code",
   "execution_count": 85,
   "metadata": {},
   "outputs": [
    {
     "data": {
      "text/plain": [
       "<matplotlib.axes._subplots.AxesSubplot at 0x2b281d9f940>"
      ]
     },
     "execution_count": 85,
     "metadata": {},
     "output_type": "execute_result"
    },
    {
     "data": {
      "image/png": "[encoded data removed]",
      "text/plain": [
       "<Figure size 720x360 with 1 Axes>"
      ]
     },
     "metadata": {
      "needs_background": "light"
     },
     "output_type": "display_data"
    }
   ],
   "source": [
    "plt.figure(figsize=(10,5))\n",
    "sns.countplot(y = 'use',order = phil['use'].value_counts().iloc[:10].index, data = phil)"
   ]
  },
  {
   "cell_type": "markdown",
   "metadata": {},
   "source": [
    "The most popular use of loans is __to buy a sanitary toilet for her family.__"
   ]
  },
  {
   "cell_type": "code",
   "execution_count": 86,
   "metadata": {},
   "outputs": [
    {
     "data": {
      "text/plain": [
       "<matplotlib.axes._subplots.AxesSubplot at 0x2b2ad436518>"
      ]
     },
     "execution_count": 86,
     "metadata": {},
     "output_type": "execute_result"
    },
    {
     "data": {
      "image/png": "[encoded data removed]",
      "text/plain": [
       "<Figure size 432x288 with 1 Axes>"
      ]
     },
     "metadata": {
      "needs_background": "light"
     },
     "output_type": "display_data"
    }
   ],
   "source": [
    "sns.countplot(y = 'region', order = phil['region'].value_counts().iloc[:10].index, data = phil)"
   ]
  },
  {
   "cell_type": "markdown",
   "metadata": {},
   "source": [
    "Top 3 __Regions__ which got more loans:\n",
    "\n",
    "1. Palo, Leyte\n",
    "2. Narra, Palawan\n",
    "3. Quezo, Palawan"
   ]
  },
  {
   "cell_type": "code",
   "execution_count": 87,
   "metadata": {},
   "outputs": [
    {
     "data": {
      "text/plain": [
       "<matplotlib.axes._subplots.AxesSubplot at 0x2b29a4ac278>"
      ]
     },
     "execution_count": 87,
     "metadata": {},
     "output_type": "execute_result"
    },
    {
     "data": {
      "image/png": "[encoded data removed]",
      "text/plain": [
       "<Figure size 432x288 with 1 Axes>"
      ]
     },
     "metadata": {
      "needs_background": "light"
     },
     "output_type": "display_data"
    }
   ],
   "source": [
    "sns.countplot(y = 'activity', order = phil['activity'].value_counts().iloc[:20].index, data = phil)"
   ]
  },
  {
   "cell_type": "markdown",
   "metadata": {},
   "source": [
    "__General store__ is the most Frequent activity for which the people had got loans for followed by __pigs__"
   ]
  },
  {
   "cell_type": "code",
   "execution_count": 88,
   "metadata": {},
   "outputs": [
    {
     "data": {
      "text/plain": [
       "<matplotlib.axes._subplots.AxesSubplot at 0x2b2acd85898>"
      ]
     },
     "execution_count": 88,
     "metadata": {},
     "output_type": "execute_result"
    },
    {
     "data": {
      "image/png": "[encoded data removed]",
      "text/plain": [
       "<Figure size 432x288 with 1 Axes>"
      ]
     },
     "metadata": {
      "needs_background": "light"
     },
     "output_type": "display_data"
    }
   ],
   "source": [
    "sns.countplot(y = 'sector', order = phil['sector'].value_counts().index, data = phil)"
   ]
  },
  {
   "cell_type": "markdown",
   "metadata": {},
   "source": [
    "Top 3 most Frequent __sectors__:\n",
    "    1. Retail\n",
    "    2. Food\n",
    "    3. Agriculture"
   ]
  },
  {
   "cell_type": "code",
   "execution_count": 89,
   "metadata": {},
   "outputs": [
    {
     "data": {
      "text/plain": [
       "<matplotlib.axes._subplots.AxesSubplot at 0x2b2acdb7f98>"
      ]
     },
     "execution_count": 89,
     "metadata": {},
     "output_type": "execute_result"
    },
    {
     "data": {
      "image/png": "[encoded data removed]",
      "text/plain": [
       "<Figure size 432x288 with 1 Axes>"
      ]
     },
     "metadata": {
      "needs_background": "light"
     },
     "output_type": "display_data"
    }
   ],
   "source": [
    "sns.countplot(y = 'repayment_interval', data = phil)"
   ]
  },
  {
   "cell_type": "markdown",
   "metadata": {},
   "source": [
    "In the repayment Interval section __irregular__ payment is most frequent followed by __monthly__"
   ]
  },
  {
   "cell_type": "code",
   "execution_count": 90,
   "metadata": {},
   "outputs": [
    {
     "data": {
      "text/plain": [
       "<matplotlib.axes._subplots.AxesSubplot at 0x2b2ace56710>"
      ]
     },
     "execution_count": 90,
     "metadata": {},
     "output_type": "execute_result"
    },
    {
     "data": {
      "image/png": "[encoded data removed]",
      "text/plain": [
       "<Figure size 432x288 with 1 Axes>"
      ]
     },
     "metadata": {
      "needs_background": "light"
     },
     "output_type": "display_data"
    }
   ],
   "source": [
    "#Sex borrowers vs repayment interval\n",
    "sns.countplot(x = 'borrower_genders',order = phil['borrower_genders'].value_counts().index,hue = 'repayment_interval', data = phil)"
   ]
  },
  {
   "cell_type": "markdown",
   "metadata": {},
   "source": [
    "__Borrower Genders__ vs __Repayment Interval__:\n",
    "    1. Female(irregular > monthly)\n",
    "    2. Male(irregular > monthly)"
   ]
  },
  {
   "cell_type": "code",
   "execution_count": 139,
   "metadata": {},
   "outputs": [
    {
     "data": {
      "text/plain": [
       "(array([   0.,  500., 1000., 1500., 2000., 2500., 3000., 3500.]),\n",
       " <a list of 8 Text xticklabel objects>)"
      ]
     },
     "execution_count": 139,
     "metadata": {},
     "output_type": "execute_result"
    },
    {
     "data": {
      "image/png": "[encoded data removed]",
      "text/plain": [
       "<Figure size 720x360 with 1 Axes>"
      ]
     },
     "metadata": {
      "needs_background": "light"
     },
     "output_type": "display_data"
    }
   ],
   "source": [
    "#Region vs repayment interval\n",
    "\n",
    "plt.figure(figsize=(10,5))\n",
    "sns.countplot(y = 'region',order = phil['region'].value_counts().iloc[:20].index,hue = 'repayment_interval', data = phil)\n",
    "plt.xticks(rotation = 90)"
   ]
  },
  {
   "cell_type": "markdown",
   "metadata": {},
   "source": [
    "__Most of the regions in philippines are irregular in repayment__"
   ]
  },
  {
   "cell_type": "code",
   "execution_count": 92,
   "metadata": {},
   "outputs": [
    {
     "data": {
      "text/plain": [
       "<matplotlib.axes._subplots.AxesSubplot at 0x2b2acecd0b8>"
      ]
     },
     "execution_count": 92,
     "metadata": {},
     "output_type": "execute_result"
    },
    {
     "data": {
      "image/png": "[encoded data removed]",
      "text/plain": [
       "<Figure size 720x360 with 1 Axes>"
      ]
     },
     "metadata": {
      "needs_background": "light"
     },
     "output_type": "display_data"
    }
   ],
   "source": [
    "plt.figure(figsize=(10,5))\n",
    "sns.countplot(x = 'term_in_months',order = phil['term_in_months'].value_counts().iloc[:20].index, data = phil)"
   ]
  },
  {
   "cell_type": "markdown",
   "metadata": {},
   "source": [
    "The highest Duration for which the loan was disbursed in months is __8__ followed by __7__"
   ]
  },
  {
   "cell_type": "code",
   "execution_count": 93,
   "metadata": {},
   "outputs": [
    {
     "data": {
      "text/plain": [
       "<matplotlib.axes._subplots.AxesSubplot at 0x2b2acf757f0>"
      ]
     },
     "execution_count": 93,
     "metadata": {},
     "output_type": "execute_result"
    },
    {
     "data": {
      "image/png": "[encoded data removed]",
      "text/plain": [
       "<Figure size 720x360 with 1 Axes>"
      ]
     },
     "metadata": {
      "needs_background": "light"
     },
     "output_type": "display_data"
    }
   ],
   "source": [
    "plt.figure(figsize=(10,5))\n",
    "sns.countplot(x = 'lender_count',order = phil['lender_count'].value_counts().iloc[:30].index, data = phil)"
   ]
  },
  {
   "cell_type": "markdown",
   "metadata": {},
   "source": [
    "Most number of people who lends is __Eight__ followed by __One__ and __Nine__"
   ]
  },
  {
   "cell_type": "code",
   "execution_count": 94,
   "metadata": {},
   "outputs": [],
   "source": [
    "theme_reg_phil = theme_reg[theme_reg['country'] == 'Philippines']\n",
    "theme_reg_phil.index = range(0, len(theme_reg_phil))"
   ]
  },
  {
   "cell_type": "code",
   "execution_count": 160,
   "metadata": {},
   "outputs": [
    {
     "data": {
      "text/html": [
       "<div>\n",
       "<style scoped>\n",
       "    .dataframe tbody tr th:only-of-type {\n",
       "        vertical-align: middle;\n",
       "    }\n",
       "\n",
       "    .dataframe tbody tr th {\n",
       "        vertical-align: top;\n",
       "    }\n",
       "\n",
       "    .dataframe thead th {\n",
       "        text-align: right;\n",
       "    }\n",
       "</style>\n",
       "<table border=\"1\" class=\"dataframe\">\n",
       "  <thead>\n",
       "    <tr style=\"text-align: right;\">\n",
       "      <th></th>\n",
       "      <th>Partner ID</th>\n",
       "      <th>Field Partner Name</th>\n",
       "      <th>sector</th>\n",
       "      <th>Loan Theme ID</th>\n",
       "      <th>Loan Theme Type</th>\n",
       "      <th>country</th>\n",
       "      <th>forkiva</th>\n",
       "      <th>region</th>\n",
       "      <th>geocode_old</th>\n",
       "      <th>ISO</th>\n",
       "      <th>...</th>\n",
       "      <th>amount</th>\n",
       "      <th>LocationName</th>\n",
       "      <th>geocode</th>\n",
       "      <th>names</th>\n",
       "      <th>geo</th>\n",
       "      <th>lat</th>\n",
       "      <th>lon</th>\n",
       "      <th>mpi_region</th>\n",
       "      <th>mpi_geo</th>\n",
       "      <th>rural_pct</th>\n",
       "    </tr>\n",
       "  </thead>\n",
       "  <tbody>\n",
       "    <tr>\n",
       "      <th>0</th>\n",
       "      <td>123</td>\n",
       "      <td>Alalay sa Kaunlaran (ASKI)</td>\n",
       "      <td>General Financial Inclusion</td>\n",
       "      <td>a1050000000wf0V</td>\n",
       "      <td>General</td>\n",
       "      <td>Philippines</td>\n",
       "      <td>No</td>\n",
       "      <td>#2 Bayabas St. San Gabriel Tuguegarao City,Cag...</td>\n",
       "      <td>NaN</td>\n",
       "      <td>PHL</td>\n",
       "      <td>...</td>\n",
       "      <td>500</td>\n",
       "      <td>#2 Bayabas St. San Gabriel Tuguegarao City,Cag...</td>\n",
       "      <td>NaN</td>\n",
       "      <td>NaN</td>\n",
       "      <td>(1000.0, 1000.0)</td>\n",
       "      <td>NaN</td>\n",
       "      <td>NaN</td>\n",
       "      <td>PHL</td>\n",
       "      <td>NaN</td>\n",
       "      <td>84.0</td>\n",
       "    </tr>\n",
       "    <tr>\n",
       "      <th>1</th>\n",
       "      <td>123</td>\n",
       "      <td>Alalay sa Kaunlaran (ASKI)</td>\n",
       "      <td>General Financial Inclusion</td>\n",
       "      <td>a1050000000wf0V</td>\n",
       "      <td>General</td>\n",
       "      <td>Philippines</td>\n",
       "      <td>No</td>\n",
       "      <td>#52C Pagaliluan St. Gosi Sur, Tuguegarao</td>\n",
       "      <td>NaN</td>\n",
       "      <td>PHL</td>\n",
       "      <td>...</td>\n",
       "      <td>1000</td>\n",
       "      <td>#52C Pagaliluan St. Gosi Sur, Tuguegarao, Phil...</td>\n",
       "      <td>NaN</td>\n",
       "      <td>NaN</td>\n",
       "      <td>(1000.0, 1000.0)</td>\n",
       "      <td>NaN</td>\n",
       "      <td>NaN</td>\n",
       "      <td>PHL</td>\n",
       "      <td>NaN</td>\n",
       "      <td>84.0</td>\n",
       "    </tr>\n",
       "    <tr>\n",
       "      <th>2</th>\n",
       "      <td>123</td>\n",
       "      <td>Alalay sa Kaunlaran (ASKI)</td>\n",
       "      <td>General Financial Inclusion</td>\n",
       "      <td>a1050000000wf0V</td>\n",
       "      <td>General</td>\n",
       "      <td>Philippines</td>\n",
       "      <td>No</td>\n",
       "      <td>214 Bonifacio St. Calaocan, Alicia, Isabela</td>\n",
       "      <td>NaN</td>\n",
       "      <td>PHL</td>\n",
       "      <td>...</td>\n",
       "      <td>1075</td>\n",
       "      <td>214 Bonifacio St. Calaocan, Alicia, Isabela, P...</td>\n",
       "      <td>NaN</td>\n",
       "      <td>NaN</td>\n",
       "      <td>(1000.0, 1000.0)</td>\n",
       "      <td>NaN</td>\n",
       "      <td>NaN</td>\n",
       "      <td>PHL</td>\n",
       "      <td>NaN</td>\n",
       "      <td>84.0</td>\n",
       "    </tr>\n",
       "  </tbody>\n",
       "</table>\n",
       "<p>3 rows × 21 columns</p>\n",
       "</div>"
      ],
      "text/plain": [
       "   Partner ID          Field Partner Name                       sector  \\\n",
       "0         123  Alalay sa Kaunlaran (ASKI)  General Financial Inclusion   \n",
       "1         123  Alalay sa Kaunlaran (ASKI)  General Financial Inclusion   \n",
       "2         123  Alalay sa Kaunlaran (ASKI)  General Financial Inclusion   \n",
       "\n",
       "     Loan Theme ID Loan Theme Type      country forkiva  \\\n",
       "0  a1050000000wf0V         General  Philippines      No   \n",
       "1  a1050000000wf0V         General  Philippines      No   \n",
       "2  a1050000000wf0V         General  Philippines      No   \n",
       "\n",
       "                                              region geocode_old  ISO  \\\n",
       "0  #2 Bayabas St. San Gabriel Tuguegarao City,Cag...         NaN  PHL   \n",
       "1           #52C Pagaliluan St. Gosi Sur, Tuguegarao         NaN  PHL   \n",
       "2        214 Bonifacio St. Calaocan, Alicia, Isabela         NaN  PHL   \n",
       "\n",
       "     ...     amount                                       LocationName  \\\n",
       "0    ...        500  #2 Bayabas St. San Gabriel Tuguegarao City,Cag...   \n",
       "1    ...       1000  #52C Pagaliluan St. Gosi Sur, Tuguegarao, Phil...   \n",
       "2    ...       1075  214 Bonifacio St. Calaocan, Alicia, Isabela, P...   \n",
       "\n",
       "  geocode names               geo lat  lon  mpi_region mpi_geo rural_pct  \n",
       "0     NaN   NaN  (1000.0, 1000.0) NaN  NaN         PHL     NaN      84.0  \n",
       "1     NaN   NaN  (1000.0, 1000.0) NaN  NaN         PHL     NaN      84.0  \n",
       "2     NaN   NaN  (1000.0, 1000.0) NaN  NaN         PHL     NaN      84.0  \n",
       "\n",
       "[3 rows x 21 columns]"
      ]
     },
     "execution_count": 160,
     "metadata": {},
     "output_type": "execute_result"
    }
   ],
   "source": [
    "theme_reg_phil.head(3)"
   ]
  },
  {
   "cell_type": "code",
   "execution_count": 96,
   "metadata": {},
   "outputs": [
    {
     "data": {
      "text/plain": [
       "<matplotlib.axes._subplots.AxesSubplot at 0x2b2ad2299b0>"
      ]
     },
     "execution_count": 96,
     "metadata": {},
     "output_type": "execute_result"
    },
    {
     "data": {
      "image/png": "[encoded data removed]",
      "text/plain": [
       "<Figure size 432x288 with 1 Axes>"
      ]
     },
     "metadata": {
      "needs_background": "light"
     },
     "output_type": "display_data"
    }
   ],
   "source": [
    "# Funding partners\n",
    "sns.countplot(y = 'Field Partner Name', order = theme_reg_phil['Field Partner Name'].value_counts().iloc[:10].index, data = theme_reg_phil)"
   ]
  },
  {
   "cell_type": "markdown",
   "metadata": {},
   "source": [
    "Most dominant field partner in philippines is __Alalay sa Kaunlaran (ASKI)__ followed by __Gata Daku Multi-purpose Cooperative(GDMPC).__"
   ]
  },
  {
   "cell_type": "code",
   "execution_count": 140,
   "metadata": {},
   "outputs": [
    {
     "data": {
      "text/plain": [
       "<matplotlib.axes._subplots.AxesSubplot at 0x2b2ae538dd8>"
      ]
     },
     "execution_count": 140,
     "metadata": {},
     "output_type": "execute_result"
    },
    {
     "data": {
      "image/png": "[encoded data removed]",
      "text/plain": [
       "<Figure size 432x288 with 1 Axes>"
      ]
     },
     "metadata": {
      "needs_background": "light"
     },
     "output_type": "display_data"
    }
   ],
   "source": [
    "#Loan theme type\n",
    "sns.countplot(y = 'Loan Theme Type', order = theme_reg_phil['Loan Theme Type'].value_counts().iloc[:5].index, data = theme_reg_phil)"
   ]
  },
  {
   "cell_type": "markdown",
   "metadata": {},
   "source": [
    "__Popular Loan Theme type__:\n",
    "    \n",
    "    1. General\n",
    "    2. Water and Sanitation\n",
    "    3. Agriculture"
   ]
  },
  {
   "cell_type": "markdown",
   "metadata": {},
   "source": [
    "# India"
   ]
  },
  {
   "cell_type": "code",
   "execution_count": 98,
   "metadata": {},
   "outputs": [],
   "source": [
    "Ind = loans[loans['country'] == 'India']\n",
    "Ind.index = range(0, len(Ind))"
   ]
  },
  {
   "cell_type": "code",
   "execution_count": 161,
   "metadata": {},
   "outputs": [
    {
     "data": {
      "text/html": [
       "<div>\n",
       "<style scoped>\n",
       "    .dataframe tbody tr th:only-of-type {\n",
       "        vertical-align: middle;\n",
       "    }\n",
       "\n",
       "    .dataframe tbody tr th {\n",
       "        vertical-align: top;\n",
       "    }\n",
       "\n",
       "    .dataframe thead th {\n",
       "        text-align: right;\n",
       "    }\n",
       "</style>\n",
       "<table border=\"1\" class=\"dataframe\">\n",
       "  <thead>\n",
       "    <tr style=\"text-align: right;\">\n",
       "      <th></th>\n",
       "      <th>id</th>\n",
       "      <th>funded_amount</th>\n",
       "      <th>loan_amount</th>\n",
       "      <th>activity</th>\n",
       "      <th>sector</th>\n",
       "      <th>use</th>\n",
       "      <th>country_code</th>\n",
       "      <th>country</th>\n",
       "      <th>region</th>\n",
       "      <th>currency</th>\n",
       "      <th>partner_id</th>\n",
       "      <th>posted_time</th>\n",
       "      <th>disbursed_time</th>\n",
       "      <th>funded_time</th>\n",
       "      <th>term_in_months</th>\n",
       "      <th>lender_count</th>\n",
       "      <th>tags</th>\n",
       "      <th>borrower_genders</th>\n",
       "      <th>repayment_interval</th>\n",
       "      <th>date</th>\n",
       "    </tr>\n",
       "  </thead>\n",
       "  <tbody>\n",
       "    <tr>\n",
       "      <th>0</th>\n",
       "      <td>653068</td>\n",
       "      <td>150.0</td>\n",
       "      <td>150.0</td>\n",
       "      <td>Transportation</td>\n",
       "      <td>Transportation</td>\n",
       "      <td>To repair their old cycle-van and buy another ...</td>\n",
       "      <td>IN</td>\n",
       "      <td>India</td>\n",
       "      <td>Maynaguri</td>\n",
       "      <td>INR</td>\n",
       "      <td>334.0</td>\n",
       "      <td>2014-01-01 09:58:07+00:00</td>\n",
       "      <td>2013-12-17 08:00:00+00:00</td>\n",
       "      <td>2014-01-01 16:01:36+00:00</td>\n",
       "      <td>43.0</td>\n",
       "      <td>6</td>\n",
       "      <td>user_favorite, user_favorite</td>\n",
       "      <td>female</td>\n",
       "      <td>bullet</td>\n",
       "      <td>2014-01-01</td>\n",
       "    </tr>\n",
       "    <tr>\n",
       "      <th>1</th>\n",
       "      <td>653067</td>\n",
       "      <td>200.0</td>\n",
       "      <td>200.0</td>\n",
       "      <td>Dairy</td>\n",
       "      <td>Agriculture</td>\n",
       "      <td>To purchase a dairy cow and start a milk produ...</td>\n",
       "      <td>IN</td>\n",
       "      <td>India</td>\n",
       "      <td>Maynaguri</td>\n",
       "      <td>INR</td>\n",
       "      <td>334.0</td>\n",
       "      <td>2014-01-01 09:51:02+00:00</td>\n",
       "      <td>2013-12-16 08:00:00+00:00</td>\n",
       "      <td>2014-01-01 17:18:09+00:00</td>\n",
       "      <td>43.0</td>\n",
       "      <td>8</td>\n",
       "      <td>user_favorite, user_favorite</td>\n",
       "      <td>female</td>\n",
       "      <td>bullet</td>\n",
       "      <td>2014-01-01</td>\n",
       "    </tr>\n",
       "    <tr>\n",
       "      <th>2</th>\n",
       "      <td>653075</td>\n",
       "      <td>225.0</td>\n",
       "      <td>225.0</td>\n",
       "      <td>Poultry</td>\n",
       "      <td>Agriculture</td>\n",
       "      <td>to expand her existing  poultry farm business.</td>\n",
       "      <td>IN</td>\n",
       "      <td>India</td>\n",
       "      <td>Dhupguri</td>\n",
       "      <td>INR</td>\n",
       "      <td>334.0</td>\n",
       "      <td>2014-01-01 11:24:40+00:00</td>\n",
       "      <td>2013-12-20 08:00:00+00:00</td>\n",
       "      <td>2014-01-01 18:58:18+00:00</td>\n",
       "      <td>43.0</td>\n",
       "      <td>7</td>\n",
       "      <td>user_favorite</td>\n",
       "      <td>female</td>\n",
       "      <td>bullet</td>\n",
       "      <td>2014-01-01</td>\n",
       "    </tr>\n",
       "  </tbody>\n",
       "</table>\n",
       "</div>"
      ],
      "text/plain": [
       "       id  funded_amount  loan_amount        activity          sector  \\\n",
       "0  653068          150.0        150.0  Transportation  Transportation   \n",
       "1  653067          200.0        200.0           Dairy     Agriculture   \n",
       "2  653075          225.0        225.0         Poultry     Agriculture   \n",
       "\n",
       "                                                 use country_code country  \\\n",
       "0  To repair their old cycle-van and buy another ...           IN   India   \n",
       "1  To purchase a dairy cow and start a milk produ...           IN   India   \n",
       "2     to expand her existing  poultry farm business.           IN   India   \n",
       "\n",
       "      region currency  partner_id                posted_time  \\\n",
       "0  Maynaguri      INR       334.0  2014-01-01 09:58:07+00:00   \n",
       "1  Maynaguri      INR       334.0  2014-01-01 09:51:02+00:00   \n",
       "2   Dhupguri      INR       334.0  2014-01-01 11:24:40+00:00   \n",
       "\n",
       "              disbursed_time                funded_time  term_in_months  \\\n",
       "0  2013-12-17 08:00:00+00:00  2014-01-01 16:01:36+00:00            43.0   \n",
       "1  2013-12-16 08:00:00+00:00  2014-01-01 17:18:09+00:00            43.0   \n",
       "2  2013-12-20 08:00:00+00:00  2014-01-01 18:58:18+00:00            43.0   \n",
       "\n",
       "   lender_count                          tags borrower_genders  \\\n",
       "0             6  user_favorite, user_favorite           female   \n",
       "1             8  user_favorite, user_favorite           female   \n",
       "2             7                 user_favorite           female   \n",
       "\n",
       "  repayment_interval        date  \n",
       "0             bullet  2014-01-01  \n",
       "1             bullet  2014-01-01  \n",
       "2             bullet  2014-01-01  "
      ]
     },
     "execution_count": 161,
     "metadata": {},
     "output_type": "execute_result"
    }
   ],
   "source": [
    "Ind.head(3)"
   ]
  },
  {
   "cell_type": "code",
   "execution_count": 162,
   "metadata": {},
   "outputs": [
    {
     "name": "stdout",
     "output_type": "stream",
     "text": [
      "Minimum_amt: 25.0\n",
      "Maximum_amt: 12925.0\n",
      "Mean_amt: 598.6673489365489\n",
      "standard_dev: 741.6568650874624\n"
     ]
    }
   ],
   "source": [
    "#Amount in PHP\n",
    "\n",
    "print('Minimum_amt:',Ind['loan_amount'].min())\n",
    "print('Maximum_amt:',Ind['loan_amount'].max())\n",
    "print('Mean_amt:',Ind['loan_amount'].mean())\n",
    "print('standard_dev:',Ind['loan_amount'].std())\n"
   ]
  },
  {
   "cell_type": "code",
   "execution_count": 101,
   "metadata": {},
   "outputs": [],
   "source": [
    "def I_regions_fund():\n",
    "    i = Ind['region'].value_counts().index\n",
    "    I_reg_fund = {}\n",
    "    for Ireg in i:\n",
    "        cal8 = Ind[Ind['region'] == Ireg]['funded_amount'].sum()\n",
    "        I_reg_fund[Ireg] = cal8\n",
    "    return I_reg_fund"
   ]
  },
  {
   "cell_type": "code",
   "execution_count": 102,
   "metadata": {},
   "outputs": [],
   "source": [
    "reg_ind = I_regions_fund()"
   ]
  },
  {
   "cell_type": "code",
   "execution_count": 103,
   "metadata": {},
   "outputs": [],
   "source": [
    "items8 = [(v,k) for k, v in reg_ind.items()]\n",
    "items8.sort()"
   ]
  },
  {
   "cell_type": "code",
   "execution_count": 104,
   "metadata": {},
   "outputs": [],
   "source": [
    "reg_ind10 = items8[::-1][:10]"
   ]
  },
  {
   "cell_type": "code",
   "execution_count": 105,
   "metadata": {},
   "outputs": [
    {
     "data": {
      "text/plain": [
       "[(352150.0, 'Jeypore, Odisha'),\n",
       " (228825.0, 'Falakata'),\n",
       " (225075.0, 'Dhupguri'),\n",
       " (165075.0, 'Odagaon, Odisha'),\n",
       " (164825.0, 'Sonepur, Odisha'),\n",
       " (160800.0, 'Semliguda, Odisha'),\n",
       " (136750.0, 'Surendranagar'),\n",
       " (134775.0, 'Khurda'),\n",
       " (124350.0, 'Churachandpur'),\n",
       " (122700.0, 'Titilagarh,Bolangir,Odisha')]"
      ]
     },
     "execution_count": 105,
     "metadata": {},
     "output_type": "execute_result"
    }
   ],
   "source": [
    "reg_ind10"
   ]
  },
  {
   "cell_type": "code",
   "execution_count": 106,
   "metadata": {},
   "outputs": [
    {
     "data": {
      "text/plain": [
       "<matplotlib.axes._subplots.AxesSubplot at 0x2b2ad36d5c0>"
      ]
     },
     "execution_count": 106,
     "metadata": {},
     "output_type": "execute_result"
    },
    {
     "data": {
      "image/png": "[encoded data removed]",
      "text/plain": [
       "<Figure size 432x288 with 2 Axes>"
      ]
     },
     "metadata": {
      "needs_background": "light"
     },
     "output_type": "display_data"
    }
   ],
   "source": [
    "fig, (axis1,axis2) = plt.subplots(1,2,sharey = True)\n",
    "\n",
    "sns.distplot(Ind['funded_amount'],ax = axis1)\n",
    "sns.distplot(Ind['loan_amount'],ax = axis2)"
   ]
  },
  {
   "cell_type": "code",
   "execution_count": 107,
   "metadata": {},
   "outputs": [
    {
     "data": {
      "text/plain": [
       "<matplotlib.axes._subplots.AxesSubplot at 0x2b281d01cf8>"
      ]
     },
     "execution_count": 107,
     "metadata": {},
     "output_type": "execute_result"
    },
    {
     "data": {
      "image/png": "[encoded data removed]",
      "text/plain": [
       "<Figure size 720x360 with 1 Axes>"
      ]
     },
     "metadata": {
      "needs_background": "light"
     },
     "output_type": "display_data"
    }
   ],
   "source": [
    "plt.figure(figsize=(10,5))\n",
    "sns.countplot(y = 'use',order = Ind['use'].value_counts().iloc[:10].index, data = Ind)"
   ]
  },
  {
   "cell_type": "markdown",
   "metadata": {},
   "source": [
    "The most popular use of loans is __to buy a smokeless stove.__"
   ]
  },
  {
   "cell_type": "code",
   "execution_count": 108,
   "metadata": {},
   "outputs": [
    {
     "data": {
      "text/plain": [
       "<matplotlib.axes._subplots.AxesSubplot at 0x2b2ad706ef0>"
      ]
     },
     "execution_count": 108,
     "metadata": {},
     "output_type": "execute_result"
    },
    {
     "data": {
      "image/png": "[encoded data removed]",
      "text/plain": [
       "<Figure size 432x288 with 1 Axes>"
      ]
     },
     "metadata": {
      "needs_background": "light"
     },
     "output_type": "display_data"
    }
   ],
   "source": [
    "sns.countplot(y = 'region', order = Ind['region'].value_counts().iloc[:10].index, data = Ind)"
   ]
  },
  {
   "cell_type": "markdown",
   "metadata": {},
   "source": [
    "Top 3 __Regions__ which got more loans:\n",
    "\n",
    "1. Dhupguri\n",
    "2. Falakata\n",
    "3. Maynaguri"
   ]
  },
  {
   "cell_type": "code",
   "execution_count": 109,
   "metadata": {},
   "outputs": [
    {
     "data": {
      "text/plain": [
       "<matplotlib.axes._subplots.AxesSubplot at 0x2b2ad8ba978>"
      ]
     },
     "execution_count": 109,
     "metadata": {},
     "output_type": "execute_result"
    },
    {
     "data": {
      "image/png": "[encoded data removed]",
      "text/plain": [
       "<Figure size 432x288 with 1 Axes>"
      ]
     },
     "metadata": {
      "needs_background": "light"
     },
     "output_type": "display_data"
    }
   ],
   "source": [
    "sns.countplot(y = 'activity', order = Ind['activity'].value_counts().iloc[:20].index, data = Ind)"
   ]
  },
  {
   "cell_type": "markdown",
   "metadata": {},
   "source": [
    "__Farming__ is the most Frequent activity for which the people had got loans for followed by __Personal Housing Expenses__"
   ]
  },
  {
   "cell_type": "code",
   "execution_count": 110,
   "metadata": {},
   "outputs": [
    {
     "data": {
      "text/plain": [
       "<matplotlib.axes._subplots.AxesSubplot at 0x2b2ad94e390>"
      ]
     },
     "execution_count": 110,
     "metadata": {},
     "output_type": "execute_result"
    },
    {
     "data": {
      "image/png": "[encoded data removed]",
      "text/plain": [
       "<Figure size 432x288 with 1 Axes>"
      ]
     },
     "metadata": {
      "needs_background": "light"
     },
     "output_type": "display_data"
    }
   ],
   "source": [
    "sns.countplot(y = 'sector', order = Ind['sector'].value_counts().index, data = Ind)"
   ]
  },
  {
   "cell_type": "markdown",
   "metadata": {},
   "source": [
    "Top 3 most Frequent __sectors__:\n",
    "    1. Agriculture\n",
    "    2. Food\n",
    "    3. Housing"
   ]
  },
  {
   "cell_type": "code",
   "execution_count": 111,
   "metadata": {},
   "outputs": [
    {
     "data": {
      "text/plain": [
       "<matplotlib.axes._subplots.AxesSubplot at 0x2b2ad9e4f60>"
      ]
     },
     "execution_count": 111,
     "metadata": {},
     "output_type": "execute_result"
    },
    {
     "data": {
      "image/png": "[encoded data removed]",
      "text/plain": [
       "<Figure size 432x288 with 1 Axes>"
      ]
     },
     "metadata": {
      "needs_background": "light"
     },
     "output_type": "display_data"
    }
   ],
   "source": [
    "sns.countplot(y = 'repayment_interval', data = Ind)"
   ]
  },
  {
   "cell_type": "code",
   "execution_count": 138,
   "metadata": {},
   "outputs": [
    {
     "data": {
      "text/plain": [
       "<matplotlib.axes._subplots.AxesSubplot at 0x2b2ae3f7860>"
      ]
     },
     "execution_count": 138,
     "metadata": {},
     "output_type": "execute_result"
    },
    {
     "data": {
      "image/png": "[encoded data removed]",
      "text/plain": [
       "<Figure size 432x288 with 1 Axes>"
      ]
     },
     "metadata": {
      "needs_background": "light"
     },
     "output_type": "display_data"
    }
   ],
   "source": [
    "#Sex borrowers vs repayment interval\n",
    "sns.countplot(x = 'borrower_genders',order = Ind['borrower_genders'].value_counts().iloc[:2].index,hue = 'repayment_interval', data = Ind)"
   ]
  },
  {
   "cell_type": "code",
   "execution_count": 113,
   "metadata": {},
   "outputs": [
    {
     "data": {
      "text/plain": [
       "(array([0, 1, 2, 3, 4, 5, 6, 7, 8, 9]), <a list of 10 Text xticklabel objects>)"
      ]
     },
     "execution_count": 113,
     "metadata": {},
     "output_type": "execute_result"
    },
    {
     "data": {
      "image/png": "[encoded data removed]",
      "text/plain": [
       "<Figure size 720x360 with 1 Axes>"
      ]
     },
     "metadata": {
      "needs_background": "light"
     },
     "output_type": "display_data"
    }
   ],
   "source": [
    "#Region vs repayment interval\n",
    "\n",
    "plt.figure(figsize=(10,5))\n",
    "sns.countplot(x = 'region',order = Ind['region'].value_counts().iloc[:10].index,hue = 'repayment_interval', data = Ind)\n",
    "plt.xticks(rotation = 90)"
   ]
  },
  {
   "cell_type": "code",
   "execution_count": 114,
   "metadata": {},
   "outputs": [
    {
     "data": {
      "text/plain": [
       "<matplotlib.axes._subplots.AxesSubplot at 0x2b2ada8db70>"
      ]
     },
     "execution_count": 114,
     "metadata": {},
     "output_type": "execute_result"
    },
    {
     "data": {
      "image/png": "[encoded data removed]",
      "text/plain": [
       "<Figure size 720x360 with 1 Axes>"
      ]
     },
     "metadata": {
      "needs_background": "light"
     },
     "output_type": "display_data"
    }
   ],
   "source": [
    "plt.figure(figsize=(10,5))\n",
    "sns.countplot(x = 'term_in_months',order = Ind['term_in_months'].value_counts().iloc[:20].index, data = Ind)"
   ]
  },
  {
   "cell_type": "markdown",
   "metadata": {},
   "source": [
    "The highest Duration for which the loan was disbursed in months is __43__ followed by __14__"
   ]
  },
  {
   "cell_type": "code",
   "execution_count": 115,
   "metadata": {},
   "outputs": [
    {
     "data": {
      "text/plain": [
       "<matplotlib.axes._subplots.AxesSubplot at 0x2b2ada85ac8>"
      ]
     },
     "execution_count": 115,
     "metadata": {},
     "output_type": "execute_result"
    },
    {
     "data": {
      "image/png": "[encoded data removed]",
      "text/plain": [
       "<Figure size 720x360 with 1 Axes>"
      ]
     },
     "metadata": {
      "needs_background": "light"
     },
     "output_type": "display_data"
    }
   ],
   "source": [
    "plt.figure(figsize=(10,5))\n",
    "sns.countplot(x = 'lender_count',order = Ind['lender_count'].value_counts().iloc[:30].index, data = Ind)"
   ]
  },
  {
   "cell_type": "markdown",
   "metadata": {},
   "source": [
    "Most number of people who lends is __Nine__ followed by __Ten__ and __Seven__"
   ]
  },
  {
   "cell_type": "code",
   "execution_count": 117,
   "metadata": {},
   "outputs": [],
   "source": [
    "theme_reg_ind = theme_reg[theme_reg['country'] == 'India']\n",
    "theme_reg_ind.index = range(0, len(theme_reg_ind))"
   ]
  },
  {
   "cell_type": "code",
   "execution_count": 163,
   "metadata": {},
   "outputs": [
    {
     "data": {
      "text/html": [
       "<div>\n",
       "<style scoped>\n",
       "    .dataframe tbody tr th:only-of-type {\n",
       "        vertical-align: middle;\n",
       "    }\n",
       "\n",
       "    .dataframe tbody tr th {\n",
       "        vertical-align: top;\n",
       "    }\n",
       "\n",
       "    .dataframe thead th {\n",
       "        text-align: right;\n",
       "    }\n",
       "</style>\n",
       "<table border=\"1\" class=\"dataframe\">\n",
       "  <thead>\n",
       "    <tr style=\"text-align: right;\">\n",
       "      <th></th>\n",
       "      <th>Partner ID</th>\n",
       "      <th>Field Partner Name</th>\n",
       "      <th>sector</th>\n",
       "      <th>Loan Theme ID</th>\n",
       "      <th>Loan Theme Type</th>\n",
       "      <th>country</th>\n",
       "      <th>forkiva</th>\n",
       "      <th>region</th>\n",
       "      <th>geocode_old</th>\n",
       "      <th>ISO</th>\n",
       "      <th>...</th>\n",
       "      <th>amount</th>\n",
       "      <th>LocationName</th>\n",
       "      <th>geocode</th>\n",
       "      <th>names</th>\n",
       "      <th>geo</th>\n",
       "      <th>lat</th>\n",
       "      <th>lon</th>\n",
       "      <th>mpi_region</th>\n",
       "      <th>mpi_geo</th>\n",
       "      <th>rural_pct</th>\n",
       "    </tr>\n",
       "  </thead>\n",
       "  <tbody>\n",
       "    <tr>\n",
       "      <th>0</th>\n",
       "      <td>225</td>\n",
       "      <td>Novica</td>\n",
       "      <td>Artisan</td>\n",
       "      <td>a1050000000T14Q</td>\n",
       "      <td>Artisan</td>\n",
       "      <td>India</td>\n",
       "      <td>No</td>\n",
       "      <td>Agra</td>\n",
       "      <td>NaN</td>\n",
       "      <td>IND</td>\n",
       "      <td>...</td>\n",
       "      <td>2100</td>\n",
       "      <td>Agra, India</td>\n",
       "      <td>[(27.1766701, 78.00807449999999)]</td>\n",
       "      <td>Agra; Agra; Uttar Pradesh; India</td>\n",
       "      <td>(27.1766701, 78.00807449999999)</td>\n",
       "      <td>27.176670</td>\n",
       "      <td>78.008075</td>\n",
       "      <td>IND</td>\n",
       "      <td>NaN</td>\n",
       "      <td>0.0</td>\n",
       "    </tr>\n",
       "    <tr>\n",
       "      <th>1</th>\n",
       "      <td>225</td>\n",
       "      <td>Novica</td>\n",
       "      <td>Artisan</td>\n",
       "      <td>a1050000000T14Q</td>\n",
       "      <td>Artisan</td>\n",
       "      <td>India</td>\n",
       "      <td>No</td>\n",
       "      <td>Haryana</td>\n",
       "      <td>NaN</td>\n",
       "      <td>IND</td>\n",
       "      <td>...</td>\n",
       "      <td>1200</td>\n",
       "      <td>Haryana, India</td>\n",
       "      <td>[(29.0587757, 76.085601)]</td>\n",
       "      <td>Haryana; India</td>\n",
       "      <td>(29.0587757, 76.085601)</td>\n",
       "      <td>29.058776</td>\n",
       "      <td>76.085601</td>\n",
       "      <td>IND</td>\n",
       "      <td>NaN</td>\n",
       "      <td>0.0</td>\n",
       "    </tr>\n",
       "    <tr>\n",
       "      <th>2</th>\n",
       "      <td>225</td>\n",
       "      <td>Novica</td>\n",
       "      <td>Artisan</td>\n",
       "      <td>a1050000000T14Q</td>\n",
       "      <td>Artisan</td>\n",
       "      <td>India</td>\n",
       "      <td>No</td>\n",
       "      <td>Jaipur</td>\n",
       "      <td>NaN</td>\n",
       "      <td>IND</td>\n",
       "      <td>...</td>\n",
       "      <td>4000</td>\n",
       "      <td>Jaipur, India</td>\n",
       "      <td>[(26.9124336, 75.7872709)]</td>\n",
       "      <td>Jaipur; Jaipur; Rajasthan; India</td>\n",
       "      <td>(26.9124336, 75.7872709)</td>\n",
       "      <td>26.912434</td>\n",
       "      <td>75.787271</td>\n",
       "      <td>IND</td>\n",
       "      <td>NaN</td>\n",
       "      <td>0.0</td>\n",
       "    </tr>\n",
       "  </tbody>\n",
       "</table>\n",
       "<p>3 rows × 21 columns</p>\n",
       "</div>"
      ],
      "text/plain": [
       "   Partner ID Field Partner Name   sector    Loan Theme ID Loan Theme Type  \\\n",
       "0         225             Novica  Artisan  a1050000000T14Q         Artisan   \n",
       "1         225             Novica  Artisan  a1050000000T14Q         Artisan   \n",
       "2         225             Novica  Artisan  a1050000000T14Q         Artisan   \n",
       "\n",
       "  country forkiva   region geocode_old  ISO    ...     amount    LocationName  \\\n",
       "0   India      No     Agra         NaN  IND    ...       2100     Agra, India   \n",
       "1   India      No  Haryana         NaN  IND    ...       1200  Haryana, India   \n",
       "2   India      No   Jaipur         NaN  IND    ...       4000   Jaipur, India   \n",
       "\n",
       "                             geocode                             names  \\\n",
       "0  [(27.1766701, 78.00807449999999)]  Agra; Agra; Uttar Pradesh; India   \n",
       "1          [(29.0587757, 76.085601)]                    Haryana; India   \n",
       "2         [(26.9124336, 75.7872709)]  Jaipur; Jaipur; Rajasthan; India   \n",
       "\n",
       "                               geo        lat        lon  mpi_region mpi_geo  \\\n",
       "0  (27.1766701, 78.00807449999999)  27.176670  78.008075         IND     NaN   \n",
       "1          (29.0587757, 76.085601)  29.058776  76.085601         IND     NaN   \n",
       "2         (26.9124336, 75.7872709)  26.912434  75.787271         IND     NaN   \n",
       "\n",
       "  rural_pct  \n",
       "0       0.0  \n",
       "1       0.0  \n",
       "2       0.0  \n",
       "\n",
       "[3 rows x 21 columns]"
      ]
     },
     "execution_count": 163,
     "metadata": {},
     "output_type": "execute_result"
    }
   ],
   "source": [
    "theme_reg_ind.head(3)"
   ]
  },
  {
   "cell_type": "code",
   "execution_count": 119,
   "metadata": {},
   "outputs": [
    {
     "data": {
      "text/plain": [
       "<matplotlib.axes._subplots.AxesSubplot at 0x2b2adc9e940>"
      ]
     },
     "execution_count": 119,
     "metadata": {},
     "output_type": "execute_result"
    },
    {
     "data": {
      "image/png": "[encoded data removed]",
      "text/plain": [
       "<Figure size 432x288 with 1 Axes>"
      ]
     },
     "metadata": {
      "needs_background": "light"
     },
     "output_type": "display_data"
    }
   ],
   "source": [
    "# Funding partners\n",
    "sns.countplot(y = 'Field Partner Name', order = theme_reg_ind['Field Partner Name'].value_counts().iloc[:10].index, data = theme_reg_ind)"
   ]
  },
  {
   "cell_type": "markdown",
   "metadata": {},
   "source": [
    "Most dominant field partner in India is __Milaap__ followed by __People's Forum.__"
   ]
  },
  {
   "cell_type": "code",
   "execution_count": 120,
   "metadata": {},
   "outputs": [
    {
     "data": {
      "text/plain": [
       "<matplotlib.axes._subplots.AxesSubplot at 0x2b2add2c588>"
      ]
     },
     "execution_count": 120,
     "metadata": {},
     "output_type": "execute_result"
    },
    {
     "data": {
      "image/png": "[encoded data removed]",
      "text/plain": [
       "<Figure size 432x288 with 1 Axes>"
      ]
     },
     "metadata": {
      "needs_background": "light"
     },
     "output_type": "display_data"
    }
   ],
   "source": [
    "#Loan theme type\n",
    "sns.countplot(y = 'Loan Theme Type', order = theme_reg_ind['Loan Theme Type'].value_counts().iloc[:15].index, data = theme_reg_ind)"
   ]
  },
  {
   "cell_type": "markdown",
   "metadata": {},
   "source": [
    "__Popular Loan Theme type__:\n",
    "    \n",
    "    1. Vulnerable populations\n",
    "    2. Vulnerable Women\n",
    "    3. Water and Sanitation "
   ]
  },
  {
   "cell_type": "code",
   "execution_count": null,
   "metadata": {},
   "outputs": [],
   "source": []
  }
 ],
 "metadata": {
  "kernelspec": {
   "display_name": "Python 3",
   "language": "python",
   "name": "python3"
  },
  "language_info": {
   "codemirror_mode": {
    "name": "ipython",
    "version": 3
   },
   "file_extension": ".py",
   "mimetype": "text/x-python",
   "name": "python",
   "nbconvert_exporter": "python",
   "pygments_lexer": "ipython3",
   "version": "3.7.1"
  }
 },
 "nbformat": 4,
 "nbformat_minor": 2
}
